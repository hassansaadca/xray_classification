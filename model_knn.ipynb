{
 "cells": [
  {
   "cell_type": "markdown",
   "id": "e67e3ba7-5277-4dd8-abed-0f911ceb2a38",
   "metadata": {},
   "source": [
    "# K-Nearest Neightbor Model"
   ]
  },
  {
   "cell_type": "markdown",
   "id": "879cab55-a3b0-4982-9b18-7138775ce00b",
   "metadata": {},
   "source": [
    "## Step 1: Import packages"
   ]
  },
  {
   "cell_type": "code",
   "execution_count": 9,
   "id": "c66fcea7-b008-4931-a1d4-2261033ea04a",
   "metadata": {},
   "outputs": [],
   "source": [
    "import numpy as np\n",
    "import matplotlib.pyplot as plt\n",
    "\n",
    "from sklearn.metrics import accuracy_score\n",
    "from sklearn.metrics import confusion_matrix\n",
    "from sklearn.model_selection import GridSearchCV\n",
    "from sklearn.model_selection import train_test_split\n",
    "from sklearn.neighbors import KNeighborsClassifier\n",
    "\n",
    "import xray_data "
   ]
  },
  {
   "cell_type": "markdown",
   "id": "bd7f2ce9-783a-4e1d-9f31-0039e41cdbbf",
   "metadata": {},
   "source": [
    "## Step 2: Load, pre-process and split data"
   ]
  },
  {
   "cell_type": "code",
   "execution_count": 3,
   "id": "7c15b4bb-48a8-47ac-bf2e-58e460c2c0af",
   "metadata": {},
   "outputs": [
    {
     "name": "stderr",
     "output_type": "stream",
     "text": [
      "100% (460 of 460) |######################| Elapsed Time: 0:00:00 Time:  0:00:00\n",
      "100% (3875 of 3875) |####################| Elapsed Time: 0:01:41 Time:  0:01:41\n",
      "100% (1341 of 1341) |####################| Elapsed Time: 0:01:34 Time:  0:01:34\n",
      "100% (650 of 650) |######################| Elapsed Time: 0:00:00 Time:  0:00:00\n"
     ]
    }
   ],
   "source": [
    "labels = ['NORMAL','PNEUMONIA']\n",
    "X_train, y_train = xray_data.load_train(label_filters=labels, sample='PROP')"
   ]
  },
  {
   "cell_type": "code",
   "execution_count": 4,
   "id": "7cc7ede8-8caa-4050-b79a-6383666956c1",
   "metadata": {},
   "outputs": [
    {
     "name": "stdout",
     "output_type": "stream",
     "text": [
      "(5216, 40000)\n",
      "(5216,)\n"
     ]
    }
   ],
   "source": [
    "print(X_train.shape)\n",
    "print(y_train.shape)"
   ]
  },
  {
   "cell_type": "code",
   "execution_count": 5,
   "id": "28195e8e-31b2-403e-8a61-9a19df7d6218",
   "metadata": {},
   "outputs": [],
   "source": [
    "X_mini_train, X_dev, y_mini_train, y_dev = train_test_split(X_train, y_train, test_size = .2, stratify = y_train)"
   ]
  },
  {
   "cell_type": "code",
   "execution_count": 6,
   "id": "4defc021-f688-456a-9c15-05d311469b71",
   "metadata": {},
   "outputs": [
    {
     "name": "stdout",
     "output_type": "stream",
     "text": [
      "(4172, 40000)\n",
      "(1044, 40000)\n"
     ]
    }
   ],
   "source": [
    "print(X_mini_train.shape)\n",
    "print(X_dev.shape)"
   ]
  },
  {
   "cell_type": "markdown",
   "id": "1f5d50e4-181d-41f9-a511-05ddd7ed7027",
   "metadata": {},
   "source": [
    "## Step 3: Train Default KNN Model"
   ]
  },
  {
   "cell_type": "code",
   "execution_count": 7,
   "id": "129a7137-77d6-4d9a-aafc-9587f66a4e04",
   "metadata": {},
   "outputs": [
    {
     "name": "stdout",
     "output_type": "stream",
     "text": [
      "Default k-Nearest Neighbors\n",
      "\n",
      "metric: minkowski\n",
      "n_neighbors: 5\n",
      "accuracy: 0.942 \n"
     ]
    }
   ],
   "source": [
    "knn = KNeighborsClassifier()\n",
    "knn.fit(X_mini_train, y_mini_train)\n",
    "y_pred = knn.predict(X_dev)\n",
    "accuracy = accuracy_score(y_pred,y_dev)\n",
    "\n",
    "print('Default k-Nearest Neighbors')\n",
    "print('\\nmetric: minkowski\\nn_neighbors: 5\\naccuracy: %.3f ' % accuracy) "
   ]
  },
  {
   "cell_type": "markdown",
   "id": "1c859e65-f711-449e-b1df-a46254dd086c",
   "metadata": {},
   "source": [
    "## Step 4: CrossValidated Gridsearch KNN models"
   ]
  },
  {
   "cell_type": "code",
   "execution_count": 8,
   "id": "f02f5043-65d5-4eeb-bbdd-4bfccaac3650",
   "metadata": {},
   "outputs": [
    {
     "name": "stdout",
     "output_type": "stream",
     "text": [
      "Fitting 5 folds for each of 30 candidates, totalling 150 fits\n",
      "[CV 1/5] END ...metric=euclidean, n_neighbors=1;, score=0.917 total time=  13.4s\n",
      "[CV 2/5] END ...metric=euclidean, n_neighbors=1;, score=0.933 total time=   9.7s\n",
      "[CV 3/5] END ...metric=euclidean, n_neighbors=1;, score=0.910 total time=   9.7s\n",
      "[CV 4/5] END ...metric=euclidean, n_neighbors=1;, score=0.925 total time=  11.1s\n",
      "[CV 5/5] END ...metric=euclidean, n_neighbors=1;, score=0.932 total time=  12.2s\n",
      "[CV 1/5] END ...metric=euclidean, n_neighbors=2;, score=0.896 total time=  12.1s\n",
      "[CV 2/5] END ...metric=euclidean, n_neighbors=2;, score=0.913 total time=  10.0s\n",
      "[CV 3/5] END ...metric=euclidean, n_neighbors=2;, score=0.888 total time=  11.0s\n",
      "[CV 4/5] END ...metric=euclidean, n_neighbors=2;, score=0.900 total time=  12.7s\n",
      "[CV 5/5] END ...metric=euclidean, n_neighbors=2;, score=0.919 total time=  10.4s\n",
      "[CV 1/5] END ...metric=euclidean, n_neighbors=3;, score=0.929 total time=  10.8s\n",
      "[CV 2/5] END ...metric=euclidean, n_neighbors=3;, score=0.934 total time=  11.9s\n",
      "[CV 3/5] END ...metric=euclidean, n_neighbors=3;, score=0.912 total time=  12.9s\n",
      "[CV 4/5] END ...metric=euclidean, n_neighbors=3;, score=0.931 total time=  13.7s\n",
      "[CV 5/5] END ...metric=euclidean, n_neighbors=3;, score=0.946 total time=  13.4s\n",
      "[CV 1/5] END ...metric=euclidean, n_neighbors=4;, score=0.911 total time=  17.0s\n",
      "[CV 2/5] END ...metric=euclidean, n_neighbors=4;, score=0.920 total time=  12.3s\n",
      "[CV 3/5] END ...metric=euclidean, n_neighbors=4;, score=0.905 total time=  12.3s\n",
      "[CV 4/5] END ...metric=euclidean, n_neighbors=4;, score=0.911 total time=  12.8s\n",
      "[CV 5/5] END ...metric=euclidean, n_neighbors=4;, score=0.936 total time=  13.4s\n",
      "[CV 1/5] END ...metric=euclidean, n_neighbors=5;, score=0.933 total time=   9.6s\n",
      "[CV 2/5] END ...metric=euclidean, n_neighbors=5;, score=0.945 total time=  12.2s\n",
      "[CV 3/5] END ...metric=euclidean, n_neighbors=5;, score=0.917 total time=  10.8s\n",
      "[CV 4/5] END ...metric=euclidean, n_neighbors=5;, score=0.933 total time=  17.1s\n",
      "[CV 5/5] END ...metric=euclidean, n_neighbors=5;, score=0.942 total time=  15.9s\n",
      "[CV 1/5] END ...metric=euclidean, n_neighbors=6;, score=0.917 total time=  14.7s\n",
      "[CV 2/5] END ...metric=euclidean, n_neighbors=6;, score=0.926 total time=  17.0s\n",
      "[CV 3/5] END ...metric=euclidean, n_neighbors=6;, score=0.911 total time=  10.0s\n",
      "[CV 4/5] END ...metric=euclidean, n_neighbors=6;, score=0.917 total time=  14.7s\n",
      "[CV 5/5] END ...metric=euclidean, n_neighbors=6;, score=0.938 total time=  15.6s\n",
      "[CV 1/5] END ...metric=euclidean, n_neighbors=7;, score=0.930 total time=  11.5s\n",
      "[CV 2/5] END ...metric=euclidean, n_neighbors=7;, score=0.942 total time=  15.3s\n",
      "[CV 3/5] END ...metric=euclidean, n_neighbors=7;, score=0.918 total time=  11.8s\n",
      "[CV 4/5] END ...metric=euclidean, n_neighbors=7;, score=0.927 total time=  11.4s\n",
      "[CV 5/5] END ...metric=euclidean, n_neighbors=7;, score=0.945 total time=  11.5s\n",
      "[CV 1/5] END ...metric=euclidean, n_neighbors=8;, score=0.923 total time=  12.1s\n",
      "[CV 2/5] END ...metric=euclidean, n_neighbors=8;, score=0.925 total time=  12.7s\n",
      "[CV 3/5] END ...metric=euclidean, n_neighbors=8;, score=0.918 total time=  11.7s\n",
      "[CV 4/5] END ...metric=euclidean, n_neighbors=8;, score=0.915 total time=  13.9s\n",
      "[CV 5/5] END ...metric=euclidean, n_neighbors=8;, score=0.941 total time=  13.6s\n",
      "[CV 1/5] END ...metric=euclidean, n_neighbors=9;, score=0.934 total time=  13.1s\n",
      "[CV 2/5] END ...metric=euclidean, n_neighbors=9;, score=0.936 total time=  15.9s\n",
      "[CV 3/5] END ...metric=euclidean, n_neighbors=9;, score=0.916 total time=  12.6s\n",
      "[CV 4/5] END ...metric=euclidean, n_neighbors=9;, score=0.930 total time=  12.9s\n",
      "[CV 5/5] END ...metric=euclidean, n_neighbors=9;, score=0.942 total time=  12.7s\n",
      "[CV 1/5] END ..metric=euclidean, n_neighbors=10;, score=0.929 total time=  13.2s\n",
      "[CV 2/5] END ..metric=euclidean, n_neighbors=10;, score=0.930 total time=  12.1s\n",
      "[CV 3/5] END ..metric=euclidean, n_neighbors=10;, score=0.912 total time=  10.5s\n",
      "[CV 4/5] END ..metric=euclidean, n_neighbors=10;, score=0.924 total time=  12.5s\n",
      "[CV 5/5] END ..metric=euclidean, n_neighbors=10;, score=0.939 total time=  14.6s\n",
      "[CV 1/5] END ..metric=euclidean, n_neighbors=11;, score=0.933 total time=  13.3s\n",
      "[CV 2/5] END ..metric=euclidean, n_neighbors=11;, score=0.940 total time=  10.5s\n",
      "[CV 3/5] END ..metric=euclidean, n_neighbors=11;, score=0.915 total time=  12.9s\n",
      "[CV 4/5] END ..metric=euclidean, n_neighbors=11;, score=0.930 total time=  11.5s\n",
      "[CV 5/5] END ..metric=euclidean, n_neighbors=11;, score=0.941 total time=  13.3s\n",
      "[CV 1/5] END ..metric=euclidean, n_neighbors=12;, score=0.926 total time=  16.3s\n",
      "[CV 2/5] END ..metric=euclidean, n_neighbors=12;, score=0.933 total time=  11.3s\n",
      "[CV 3/5] END ..metric=euclidean, n_neighbors=12;, score=0.913 total time=  10.7s\n",
      "[CV 4/5] END ..metric=euclidean, n_neighbors=12;, score=0.925 total time=  12.5s\n",
      "[CV 5/5] END ..metric=euclidean, n_neighbors=12;, score=0.937 total time=  13.0s\n",
      "[CV 1/5] END ..metric=euclidean, n_neighbors=13;, score=0.932 total time=  12.2s\n",
      "[CV 2/5] END ..metric=euclidean, n_neighbors=13;, score=0.939 total time=  19.0s\n",
      "[CV 3/5] END ..metric=euclidean, n_neighbors=13;, score=0.914 total time=  11.3s\n",
      "[CV 4/5] END ..metric=euclidean, n_neighbors=13;, score=0.932 total time=  16.1s\n",
      "[CV 5/5] END ..metric=euclidean, n_neighbors=13;, score=0.942 total time=  14.1s\n",
      "[CV 1/5] END ..metric=euclidean, n_neighbors=14;, score=0.927 total time=  10.9s\n",
      "[CV 2/5] END ..metric=euclidean, n_neighbors=14;, score=0.931 total time=  10.7s\n",
      "[CV 3/5] END ..metric=euclidean, n_neighbors=14;, score=0.914 total time=  10.4s\n",
      "[CV 4/5] END ..metric=euclidean, n_neighbors=14;, score=0.924 total time=  10.6s\n",
      "[CV 5/5] END ..metric=euclidean, n_neighbors=14;, score=0.936 total time=  13.4s\n",
      "[CV 1/5] END ..metric=euclidean, n_neighbors=15;, score=0.932 total time=  10.6s\n",
      "[CV 2/5] END ..metric=euclidean, n_neighbors=15;, score=0.936 total time=  11.0s\n",
      "[CV 3/5] END ..metric=euclidean, n_neighbors=15;, score=0.916 total time=  10.8s\n",
      "[CV 4/5] END ..metric=euclidean, n_neighbors=15;, score=0.934 total time=  12.0s\n",
      "[CV 5/5] END ..metric=euclidean, n_neighbors=15;, score=0.940 total time=   9.5s\n",
      "[CV 1/5] END ...metric=minkowski, n_neighbors=1;, score=0.917 total time=  10.3s\n",
      "[CV 2/5] END ...metric=minkowski, n_neighbors=1;, score=0.933 total time=  11.3s\n",
      "[CV 3/5] END ...metric=minkowski, n_neighbors=1;, score=0.910 total time=   9.6s\n",
      "[CV 4/5] END ...metric=minkowski, n_neighbors=1;, score=0.925 total time=   9.4s\n",
      "[CV 5/5] END ...metric=minkowski, n_neighbors=1;, score=0.932 total time=   9.0s\n",
      "[CV 1/5] END ...metric=minkowski, n_neighbors=2;, score=0.896 total time=   9.2s\n",
      "[CV 2/5] END ...metric=minkowski, n_neighbors=2;, score=0.913 total time=   9.0s\n",
      "[CV 3/5] END ...metric=minkowski, n_neighbors=2;, score=0.888 total time=   9.0s\n",
      "[CV 4/5] END ...metric=minkowski, n_neighbors=2;, score=0.900 total time=  12.9s\n",
      "[CV 5/5] END ...metric=minkowski, n_neighbors=2;, score=0.919 total time=  29.9s\n",
      "[CV 1/5] END ...metric=minkowski, n_neighbors=3;, score=0.929 total time=  12.9s\n",
      "[CV 2/5] END ...metric=minkowski, n_neighbors=3;, score=0.934 total time=  15.8s\n",
      "[CV 3/5] END ...metric=minkowski, n_neighbors=3;, score=0.912 total time=  16.1s\n",
      "[CV 4/5] END ...metric=minkowski, n_neighbors=3;, score=0.931 total time=   9.8s\n",
      "[CV 5/5] END ...metric=minkowski, n_neighbors=3;, score=0.946 total time=   9.7s\n",
      "[CV 1/5] END ...metric=minkowski, n_neighbors=4;, score=0.911 total time=   9.4s\n",
      "[CV 2/5] END ...metric=minkowski, n_neighbors=4;, score=0.920 total time=   9.7s\n",
      "[CV 3/5] END ...metric=minkowski, n_neighbors=4;, score=0.905 total time=  10.3s\n",
      "[CV 4/5] END ...metric=minkowski, n_neighbors=4;, score=0.911 total time=  12.0s\n",
      "[CV 5/5] END ...metric=minkowski, n_neighbors=4;, score=0.936 total time=  13.4s\n",
      "[CV 1/5] END ...metric=minkowski, n_neighbors=5;, score=0.933 total time=  15.7s\n",
      "[CV 2/5] END ...metric=minkowski, n_neighbors=5;, score=0.945 total time=   9.2s\n",
      "[CV 3/5] END ...metric=minkowski, n_neighbors=5;, score=0.917 total time=   9.9s\n",
      "[CV 4/5] END ...metric=minkowski, n_neighbors=5;, score=0.933 total time=   9.7s\n",
      "[CV 5/5] END ...metric=minkowski, n_neighbors=5;, score=0.942 total time=   9.1s\n",
      "[CV 1/5] END ...metric=minkowski, n_neighbors=6;, score=0.917 total time=  11.1s\n",
      "[CV 2/5] END ...metric=minkowski, n_neighbors=6;, score=0.926 total time=   9.0s\n",
      "[CV 3/5] END ...metric=minkowski, n_neighbors=6;, score=0.911 total time=  12.4s\n",
      "[CV 4/5] END ...metric=minkowski, n_neighbors=6;, score=0.917 total time=  18.5s\n",
      "[CV 5/5] END ...metric=minkowski, n_neighbors=6;, score=0.938 total time=  14.5s\n",
      "[CV 1/5] END ...metric=minkowski, n_neighbors=7;, score=0.930 total time=   9.4s\n",
      "[CV 2/5] END ...metric=minkowski, n_neighbors=7;, score=0.942 total time=  10.9s\n",
      "[CV 3/5] END ...metric=minkowski, n_neighbors=7;, score=0.918 total time=   9.6s\n",
      "[CV 4/5] END ...metric=minkowski, n_neighbors=7;, score=0.927 total time=  12.2s\n",
      "[CV 5/5] END ...metric=minkowski, n_neighbors=7;, score=0.945 total time=  11.3s\n",
      "[CV 1/5] END ...metric=minkowski, n_neighbors=8;, score=0.923 total time=  10.5s\n",
      "[CV 2/5] END ...metric=minkowski, n_neighbors=8;, score=0.925 total time=  14.1s\n",
      "[CV 3/5] END ...metric=minkowski, n_neighbors=8;, score=0.918 total time=  10.6s\n",
      "[CV 4/5] END ...metric=minkowski, n_neighbors=8;, score=0.915 total time=  11.2s\n",
      "[CV 5/5] END ...metric=minkowski, n_neighbors=8;, score=0.941 total time=  12.9s\n",
      "[CV 1/5] END ...metric=minkowski, n_neighbors=9;, score=0.934 total time=  11.1s\n",
      "[CV 2/5] END ...metric=minkowski, n_neighbors=9;, score=0.936 total time=  11.7s\n",
      "[CV 3/5] END ...metric=minkowski, n_neighbors=9;, score=0.916 total time=   9.6s\n",
      "[CV 4/5] END ...metric=minkowski, n_neighbors=9;, score=0.930 total time=  14.4s\n",
      "[CV 5/5] END ...metric=minkowski, n_neighbors=9;, score=0.942 total time=  12.2s\n",
      "[CV 1/5] END ..metric=minkowski, n_neighbors=10;, score=0.929 total time=  17.1s\n",
      "[CV 2/5] END ..metric=minkowski, n_neighbors=10;, score=0.930 total time=  10.8s\n",
      "[CV 3/5] END ..metric=minkowski, n_neighbors=10;, score=0.912 total time=  12.6s\n",
      "[CV 4/5] END ..metric=minkowski, n_neighbors=10;, score=0.924 total time=  12.6s\n",
      "[CV 5/5] END ..metric=minkowski, n_neighbors=10;, score=0.939 total time=  11.4s\n",
      "[CV 1/5] END ..metric=minkowski, n_neighbors=11;, score=0.933 total time=   9.1s\n",
      "[CV 2/5] END ..metric=minkowski, n_neighbors=11;, score=0.940 total time=   9.4s\n",
      "[CV 3/5] END ..metric=minkowski, n_neighbors=11;, score=0.915 total time=  16.6s\n",
      "[CV 4/5] END ..metric=minkowski, n_neighbors=11;, score=0.930 total time=  15.6s\n",
      "[CV 5/5] END ..metric=minkowski, n_neighbors=11;, score=0.941 total time=  10.3s\n",
      "[CV 1/5] END ..metric=minkowski, n_neighbors=12;, score=0.926 total time=  10.0s\n",
      "[CV 2/5] END ..metric=minkowski, n_neighbors=12;, score=0.933 total time=   9.2s\n",
      "[CV 3/5] END ..metric=minkowski, n_neighbors=12;, score=0.913 total time=   9.5s\n",
      "[CV 4/5] END ..metric=minkowski, n_neighbors=12;, score=0.925 total time=   9.2s\n",
      "[CV 5/5] END ..metric=minkowski, n_neighbors=12;, score=0.937 total time=  10.4s\n",
      "[CV 1/5] END ..metric=minkowski, n_neighbors=13;, score=0.932 total time=  12.1s\n",
      "[CV 2/5] END ..metric=minkowski, n_neighbors=13;, score=0.939 total time=   9.4s\n",
      "[CV 3/5] END ..metric=minkowski, n_neighbors=13;, score=0.914 total time=   8.8s\n",
      "[CV 4/5] END ..metric=minkowski, n_neighbors=13;, score=0.932 total time=   9.9s\n",
      "[CV 5/5] END ..metric=minkowski, n_neighbors=13;, score=0.942 total time=   9.9s\n",
      "[CV 1/5] END ..metric=minkowski, n_neighbors=14;, score=0.927 total time=   9.1s\n",
      "[CV 2/5] END ..metric=minkowski, n_neighbors=14;, score=0.931 total time=   9.2s\n",
      "[CV 3/5] END ..metric=minkowski, n_neighbors=14;, score=0.914 total time=   9.5s\n",
      "[CV 4/5] END ..metric=minkowski, n_neighbors=14;, score=0.924 total time=  10.3s\n",
      "[CV 5/5] END ..metric=minkowski, n_neighbors=14;, score=0.936 total time=   9.6s\n",
      "[CV 1/5] END ..metric=minkowski, n_neighbors=15;, score=0.932 total time=   9.8s\n",
      "[CV 2/5] END ..metric=minkowski, n_neighbors=15;, score=0.936 total time=  10.2s\n",
      "[CV 3/5] END ..metric=minkowski, n_neighbors=15;, score=0.916 total time=  10.2s\n",
      "[CV 4/5] END ..metric=minkowski, n_neighbors=15;, score=0.934 total time=  11.0s\n",
      "[CV 5/5] END ..metric=minkowski, n_neighbors=15;, score=0.940 total time=   9.1s\n"
     ]
    },
    {
     "data": {
      "text/plain": [
       "GridSearchCV(cv=5, estimator=KNeighborsClassifier(),\n",
       "             param_grid=[{'metric': ['euclidean', 'minkowski'],\n",
       "                          'n_neighbors': array([ 1,  2,  3,  4,  5,  6,  7,  8,  9, 10, 11, 12, 13, 14, 15])}],\n",
       "             verbose=3)"
      ]
     },
     "execution_count": 8,
     "metadata": {},
     "output_type": "execute_result"
    }
   ],
   "source": [
    "knn = KNeighborsClassifier()\n",
    "\n",
    "param_grid = [\n",
    "    {\n",
    "        'n_neighbors': np.arange(1, 16), \n",
    "        'metric': ['euclidean', 'minkowski']\n",
    "    }\n",
    "]\n",
    "\n",
    "knn_gscv = GridSearchCV(knn, param_grid, cv=5, verbose=3)\n",
    "knn_gscv.fit(X_train,y_train) "
   ]
  },
  {
   "cell_type": "code",
   "execution_count": 10,
   "id": "95d48087-de9a-4dac-815c-713daf28cabe",
   "metadata": {},
   "outputs": [
    {
     "name": "stdout",
     "output_type": "stream",
     "text": [
      "k-Nearest Neighbors Grid Search with 5-Fold Cross-Validation\n",
      "Best Score: 0.934\n",
      "Optimal Parameters:\n",
      "\tmetric: euclidean\n",
      "\tn_neighbors: 5\n"
     ]
    }
   ],
   "source": [
    "print('k-Nearest Neighbors Grid Search with 5-Fold Cross-Validation')\n",
    "print('Best Score: %.3f' % knn_gscv.best_score_)\n",
    "print('Optimal Parameters:') \n",
    "best_params = knn_gscv.best_params_\n",
    "for param in best_params: \n",
    "    print('\\t%s: %s' % (param, best_params[param]))"
   ]
  },
  {
   "cell_type": "code",
   "execution_count": 11,
   "id": "df93ac24-f09d-44de-ad16-429ca460be20",
   "metadata": {},
   "outputs": [
    {
     "name": "stdout",
     "output_type": "stream",
     "text": [
      "Optimal k-Nearest Neighbors Model\n",
      "\n",
      "metric: euclidean\n",
      "n_neighbors: 5\n",
      "accuracy: 0.958 \n"
     ]
    }
   ],
   "source": [
    "y_pred = knn_gscv.predict(X_dev)\n",
    "accuracy = accuracy_score(y_pred,y_dev)\n",
    "\n",
    "print('Optimal k-Nearest Neighbors Model')\n",
    "print('\\nmetric: euclidean\\nn_neighbors: 5\\naccuracy: %.3f ' % accuracy) "
   ]
  },
  {
   "cell_type": "markdown",
   "id": "0010a88d-1aab-416f-b122-bfb71102a756",
   "metadata": {},
   "source": [
    "## Part 5: Bacterial Pneumonia\n",
    "\n",
    "### Load, pre-process and split data"
   ]
  },
  {
   "cell_type": "code",
   "execution_count": 3,
   "id": "0cc75186-7759-4e63-a4f4-d196bcf64058",
   "metadata": {},
   "outputs": [
    {
     "name": "stderr",
     "output_type": "stream",
     "text": [
      "100% (460 of 460) |######################| Elapsed Time: 0:00:00 Time:  0:00:00\n",
      "100% (3875 of 3875) |####################| Elapsed Time: 0:01:09 Time:  0:01:09\n",
      "100% (1341 of 1341) |####################| Elapsed Time: 0:02:11 Time:  0:02:11\n",
      "100% (650 of 650) |######################| Elapsed Time: 0:00:00 Time:  0:00:00\n",
      "- |#                                                  | 0 Elapsed Time: 0:00:00\n"
     ]
    },
    {
     "name": "stdout",
     "output_type": "stream",
     "text": [
      "PNEUMONIA: 2530\n",
      "NORMAL: 1341\n",
      "Total: 3871\n"
     ]
    }
   ],
   "source": [
    "X_train, y_train = xray_data.load_train(label_filters=labels, subset='PROP', pn_bacterial=True)\n",
    "print(X_train.shape)\n",
    "print(y_train.shape)"
   ]
  },
  {
   "cell_type": "code",
   "execution_count": 5,
   "id": "6cd53542-8268-40ce-8842-a70b852c6dcc",
   "metadata": {},
   "outputs": [
    {
     "name": "stdout",
     "output_type": "stream",
     "text": [
      "(3096, 40000)\n",
      "(775, 40000)\n"
     ]
    }
   ],
   "source": [
    "X_mini_train, X_dev, y_mini_train, y_dev = train_test_split(X_train, y_train, test_size = .2, stratify = y_train)\n",
    "print(X_mini_train.shape)\n",
    "print(X_dev.shape)"
   ]
  },
  {
   "cell_type": "markdown",
   "id": "2460335b-0094-4899-8cdb-0a817a78eff1",
   "metadata": {},
   "source": [
    "### Default KNN Model"
   ]
  },
  {
   "cell_type": "code",
   "execution_count": 6,
   "id": "d1bd9563-b535-4d0b-87d8-2da83e025b9f",
   "metadata": {},
   "outputs": [
    {
     "name": "stdout",
     "output_type": "stream",
     "text": [
      "Default k-Nearest Neighbors\n",
      "\n",
      "metric: minkowski\n",
      "n_neighbors: 5\n",
      "accuracy: 0.930 \n"
     ]
    }
   ],
   "source": [
    "knn = KNeighborsClassifier()\n",
    "knn.fit(X_mini_train, y_mini_train)\n",
    "y_pred = knn.predict(X_dev)\n",
    "accuracy = accuracy_score(y_pred,y_dev)\n",
    "\n",
    "print('Default k-Nearest Neighbors')\n",
    "print('\\nmetric: minkowski\\nn_neighbors: 5\\naccuracy: %.3f ' % accuracy) "
   ]
  },
  {
   "cell_type": "markdown",
   "id": "4f816a98-6cec-4498-a7ac-01f170175336",
   "metadata": {},
   "source": [
    "### CrossValidated Gridsearch KNN models"
   ]
  },
  {
   "cell_type": "code",
   "execution_count": 8,
   "id": "5df2335d-1fae-440c-b2cc-84f56481da29",
   "metadata": {},
   "outputs": [
    {
     "name": "stdout",
     "output_type": "stream",
     "text": [
      "Fitting 5 folds for each of 30 candidates, totalling 150 fits\n",
      "[CV 1/5] END ...metric=euclidean, n_neighbors=1;, score=0.930 total time=   6.3s\n",
      "[CV 2/5] END ...metric=euclidean, n_neighbors=1;, score=0.934 total time=   5.9s\n",
      "[CV 3/5] END ...metric=euclidean, n_neighbors=1;, score=0.926 total time=   8.2s\n",
      "[CV 4/5] END ...metric=euclidean, n_neighbors=1;, score=0.929 total time=   6.1s\n",
      "[CV 5/5] END ...metric=euclidean, n_neighbors=1;, score=0.935 total time=   6.1s\n",
      "[CV 1/5] END ...metric=euclidean, n_neighbors=2;, score=0.908 total time=   6.1s\n",
      "[CV 2/5] END ...metric=euclidean, n_neighbors=2;, score=0.911 total time=   8.8s\n",
      "[CV 3/5] END ...metric=euclidean, n_neighbors=2;, score=0.889 total time=   7.7s\n",
      "[CV 4/5] END ...metric=euclidean, n_neighbors=2;, score=0.904 total time=   5.4s\n",
      "[CV 5/5] END ...metric=euclidean, n_neighbors=2;, score=0.920 total time=   6.1s\n",
      "[CV 1/5] END ...metric=euclidean, n_neighbors=3;, score=0.943 total time=   7.0s\n",
      "[CV 2/5] END ...metric=euclidean, n_neighbors=3;, score=0.938 total time=   7.5s\n",
      "[CV 3/5] END ...metric=euclidean, n_neighbors=3;, score=0.922 total time=   6.9s\n",
      "[CV 4/5] END ...metric=euclidean, n_neighbors=3;, score=0.928 total time=   6.7s\n",
      "[CV 5/5] END ...metric=euclidean, n_neighbors=3;, score=0.955 total time=   6.0s\n",
      "[CV 1/5] END ...metric=euclidean, n_neighbors=4;, score=0.933 total time=   7.7s\n",
      "[CV 2/5] END ...metric=euclidean, n_neighbors=4;, score=0.933 total time=   6.8s\n",
      "[CV 3/5] END ...metric=euclidean, n_neighbors=4;, score=0.917 total time=   7.0s\n",
      "[CV 4/5] END ...metric=euclidean, n_neighbors=4;, score=0.924 total time=   9.7s\n",
      "[CV 5/5] END ...metric=euclidean, n_neighbors=4;, score=0.942 total time=   6.3s\n",
      "[CV 1/5] END ...metric=euclidean, n_neighbors=5;, score=0.943 total time=   8.9s\n",
      "[CV 2/5] END ...metric=euclidean, n_neighbors=5;, score=0.942 total time=   5.6s\n",
      "[CV 3/5] END ...metric=euclidean, n_neighbors=5;, score=0.925 total time=   5.8s\n",
      "[CV 4/5] END ...metric=euclidean, n_neighbors=5;, score=0.932 total time=   5.7s\n",
      "[CV 5/5] END ...metric=euclidean, n_neighbors=5;, score=0.956 total time=   7.7s\n",
      "[CV 1/5] END ...metric=euclidean, n_neighbors=6;, score=0.928 total time=   8.0s\n",
      "[CV 2/5] END ...metric=euclidean, n_neighbors=6;, score=0.937 total time=   7.3s\n",
      "[CV 3/5] END ...metric=euclidean, n_neighbors=6;, score=0.916 total time=   7.0s\n",
      "[CV 4/5] END ...metric=euclidean, n_neighbors=6;, score=0.928 total time=   7.3s\n",
      "[CV 5/5] END ...metric=euclidean, n_neighbors=6;, score=0.948 total time=   6.6s\n",
      "[CV 1/5] END ...metric=euclidean, n_neighbors=7;, score=0.941 total time=   8.3s\n",
      "[CV 2/5] END ...metric=euclidean, n_neighbors=7;, score=0.944 total time=   5.8s\n",
      "[CV 3/5] END ...metric=euclidean, n_neighbors=7;, score=0.919 total time=   6.5s\n",
      "[CV 4/5] END ...metric=euclidean, n_neighbors=7;, score=0.928 total time=   5.7s\n",
      "[CV 5/5] END ...metric=euclidean, n_neighbors=7;, score=0.957 total time=   5.5s\n",
      "[CV 1/5] END ...metric=euclidean, n_neighbors=8;, score=0.930 total time=   5.4s\n",
      "[CV 2/5] END ...metric=euclidean, n_neighbors=8;, score=0.932 total time=   5.3s\n",
      "[CV 3/5] END ...metric=euclidean, n_neighbors=8;, score=0.924 total time=   5.8s\n",
      "[CV 4/5] END ...metric=euclidean, n_neighbors=8;, score=0.929 total time=   5.4s\n",
      "[CV 5/5] END ...metric=euclidean, n_neighbors=8;, score=0.955 total time=   6.9s\n",
      "[CV 1/5] END ...metric=euclidean, n_neighbors=9;, score=0.937 total time=   6.6s\n",
      "[CV 2/5] END ...metric=euclidean, n_neighbors=9;, score=0.939 total time=   5.3s\n",
      "[CV 3/5] END ...metric=euclidean, n_neighbors=9;, score=0.924 total time=   5.9s\n",
      "[CV 4/5] END ...metric=euclidean, n_neighbors=9;, score=0.933 total time=   7.3s\n",
      "[CV 5/5] END ...metric=euclidean, n_neighbors=9;, score=0.960 total time=   7.4s\n",
      "[CV 1/5] END ..metric=euclidean, n_neighbors=10;, score=0.930 total time=   6.5s\n",
      "[CV 2/5] END ..metric=euclidean, n_neighbors=10;, score=0.938 total time=   5.4s\n",
      "[CV 3/5] END ..metric=euclidean, n_neighbors=10;, score=0.925 total time=   5.2s\n",
      "[CV 4/5] END ..metric=euclidean, n_neighbors=10;, score=0.930 total time=   5.3s\n",
      "[CV 5/5] END ..metric=euclidean, n_neighbors=10;, score=0.952 total time=   6.1s\n",
      "[CV 1/5] END ..metric=euclidean, n_neighbors=11;, score=0.935 total time=   6.7s\n",
      "[CV 2/5] END ..metric=euclidean, n_neighbors=11;, score=0.939 total time=  10.1s\n",
      "[CV 3/5] END ..metric=euclidean, n_neighbors=11;, score=0.921 total time=  10.3s\n",
      "[CV 4/5] END ..metric=euclidean, n_neighbors=11;, score=0.934 total time=  11.6s\n",
      "[CV 5/5] END ..metric=euclidean, n_neighbors=11;, score=0.961 total time=   6.0s\n",
      "[CV 1/5] END ..metric=euclidean, n_neighbors=12;, score=0.928 total time=   8.4s\n",
      "[CV 2/5] END ..metric=euclidean, n_neighbors=12;, score=0.937 total time=  11.1s\n",
      "[CV 3/5] END ..metric=euclidean, n_neighbors=12;, score=0.924 total time=   6.2s\n",
      "[CV 4/5] END ..metric=euclidean, n_neighbors=12;, score=0.930 total time=   8.6s\n",
      "[CV 5/5] END ..metric=euclidean, n_neighbors=12;, score=0.956 total time=  12.3s\n",
      "[CV 1/5] END ..metric=euclidean, n_neighbors=13;, score=0.928 total time=   6.6s\n",
      "[CV 2/5] END ..metric=euclidean, n_neighbors=13;, score=0.935 total time=   6.4s\n",
      "[CV 3/5] END ..metric=euclidean, n_neighbors=13;, score=0.920 total time=   7.0s\n",
      "[CV 4/5] END ..metric=euclidean, n_neighbors=13;, score=0.926 total time=   6.9s\n",
      "[CV 5/5] END ..metric=euclidean, n_neighbors=13;, score=0.961 total time=   9.8s\n",
      "[CV 1/5] END ..metric=euclidean, n_neighbors=14;, score=0.923 total time=  10.2s\n",
      "[CV 2/5] END ..metric=euclidean, n_neighbors=14;, score=0.933 total time=   9.6s\n",
      "[CV 3/5] END ..metric=euclidean, n_neighbors=14;, score=0.920 total time=   5.3s\n",
      "[CV 4/5] END ..metric=euclidean, n_neighbors=14;, score=0.932 total time=   6.5s\n",
      "[CV 5/5] END ..metric=euclidean, n_neighbors=14;, score=0.956 total time=   6.2s\n",
      "[CV 1/5] END ..metric=euclidean, n_neighbors=15;, score=0.928 total time=   5.4s\n",
      "[CV 2/5] END ..metric=euclidean, n_neighbors=15;, score=0.938 total time=   7.2s\n",
      "[CV 3/5] END ..metric=euclidean, n_neighbors=15;, score=0.921 total time=   5.9s\n",
      "[CV 4/5] END ..metric=euclidean, n_neighbors=15;, score=0.933 total time=   6.7s\n",
      "[CV 5/5] END ..metric=euclidean, n_neighbors=15;, score=0.959 total time=   7.1s\n",
      "[CV 1/5] END ...metric=minkowski, n_neighbors=1;, score=0.930 total time=   7.4s\n",
      "[CV 2/5] END ...metric=minkowski, n_neighbors=1;, score=0.934 total time=   5.3s\n",
      "[CV 3/5] END ...metric=minkowski, n_neighbors=1;, score=0.926 total time=   5.1s\n",
      "[CV 4/5] END ...metric=minkowski, n_neighbors=1;, score=0.929 total time=   5.7s\n",
      "[CV 5/5] END ...metric=minkowski, n_neighbors=1;, score=0.935 total time=   5.3s\n",
      "[CV 1/5] END ...metric=minkowski, n_neighbors=2;, score=0.908 total time=   6.5s\n",
      "[CV 2/5] END ...metric=minkowski, n_neighbors=2;, score=0.911 total time=   6.7s\n",
      "[CV 3/5] END ...metric=minkowski, n_neighbors=2;, score=0.889 total time=   8.7s\n",
      "[CV 4/5] END ...metric=minkowski, n_neighbors=2;, score=0.904 total time=   5.2s\n",
      "[CV 5/5] END ...metric=minkowski, n_neighbors=2;, score=0.920 total time=   5.2s\n",
      "[CV 1/5] END ...metric=minkowski, n_neighbors=3;, score=0.943 total time=   5.7s\n",
      "[CV 2/5] END ...metric=minkowski, n_neighbors=3;, score=0.938 total time=   5.5s\n",
      "[CV 3/5] END ...metric=minkowski, n_neighbors=3;, score=0.922 total time=   6.0s\n",
      "[CV 4/5] END ...metric=minkowski, n_neighbors=3;, score=0.928 total time=   5.7s\n",
      "[CV 5/5] END ...metric=minkowski, n_neighbors=3;, score=0.955 total time=   5.4s\n",
      "[CV 1/5] END ...metric=minkowski, n_neighbors=4;, score=0.933 total time=  11.7s\n",
      "[CV 2/5] END ...metric=minkowski, n_neighbors=4;, score=0.933 total time=   6.7s\n",
      "[CV 3/5] END ...metric=minkowski, n_neighbors=4;, score=0.917 total time=   7.5s\n",
      "[CV 4/5] END ...metric=minkowski, n_neighbors=4;, score=0.924 total time=   5.5s\n",
      "[CV 5/5] END ...metric=minkowski, n_neighbors=4;, score=0.942 total time=   5.7s\n",
      "[CV 1/5] END ...metric=minkowski, n_neighbors=5;, score=0.943 total time=   5.5s\n",
      "[CV 2/5] END ...metric=minkowski, n_neighbors=5;, score=0.942 total time=   7.3s\n",
      "[CV 3/5] END ...metric=minkowski, n_neighbors=5;, score=0.925 total time=   8.4s\n",
      "[CV 4/5] END ...metric=minkowski, n_neighbors=5;, score=0.932 total time=   5.6s\n",
      "[CV 5/5] END ...metric=minkowski, n_neighbors=5;, score=0.956 total time=   5.5s\n",
      "[CV 1/5] END ...metric=minkowski, n_neighbors=6;, score=0.928 total time=   5.1s\n",
      "[CV 2/5] END ...metric=minkowski, n_neighbors=6;, score=0.937 total time=   5.1s\n",
      "[CV 3/5] END ...metric=minkowski, n_neighbors=6;, score=0.916 total time=   5.2s\n",
      "[CV 4/5] END ...metric=minkowski, n_neighbors=6;, score=0.928 total time=   5.8s\n",
      "[CV 5/5] END ...metric=minkowski, n_neighbors=6;, score=0.948 total time=   5.3s\n",
      "[CV 1/5] END ...metric=minkowski, n_neighbors=7;, score=0.941 total time=   8.2s\n",
      "[CV 2/5] END ...metric=minkowski, n_neighbors=7;, score=0.944 total time=   6.6s\n",
      "[CV 3/5] END ...metric=minkowski, n_neighbors=7;, score=0.919 total time=   8.8s\n",
      "[CV 4/5] END ...metric=minkowski, n_neighbors=7;, score=0.928 total time=   7.6s\n",
      "[CV 5/5] END ...metric=minkowski, n_neighbors=7;, score=0.957 total time=   7.7s\n",
      "[CV 1/5] END ...metric=minkowski, n_neighbors=8;, score=0.930 total time=   6.8s\n",
      "[CV 2/5] END ...metric=minkowski, n_neighbors=8;, score=0.932 total time=   7.9s\n",
      "[CV 3/5] END ...metric=minkowski, n_neighbors=8;, score=0.924 total time=   7.6s\n",
      "[CV 4/5] END ...metric=minkowski, n_neighbors=8;, score=0.929 total time=   6.4s\n",
      "[CV 5/5] END ...metric=minkowski, n_neighbors=8;, score=0.955 total time=   6.9s\n",
      "[CV 1/5] END ...metric=minkowski, n_neighbors=9;, score=0.937 total time=   5.7s\n",
      "[CV 2/5] END ...metric=minkowski, n_neighbors=9;, score=0.939 total time=   5.7s\n",
      "[CV 3/5] END ...metric=minkowski, n_neighbors=9;, score=0.924 total time=   8.7s\n",
      "[CV 4/5] END ...metric=minkowski, n_neighbors=9;, score=0.933 total time=   8.4s\n",
      "[CV 5/5] END ...metric=minkowski, n_neighbors=9;, score=0.960 total time=   6.6s\n",
      "[CV 1/5] END ..metric=minkowski, n_neighbors=10;, score=0.930 total time=   5.4s\n",
      "[CV 2/5] END ..metric=minkowski, n_neighbors=10;, score=0.938 total time=   5.2s\n",
      "[CV 3/5] END ..metric=minkowski, n_neighbors=10;, score=0.925 total time=   7.3s\n",
      "[CV 4/5] END ..metric=minkowski, n_neighbors=10;, score=0.930 total time=   6.2s\n",
      "[CV 5/5] END ..metric=minkowski, n_neighbors=10;, score=0.952 total time=   9.6s\n",
      "[CV 1/5] END ..metric=minkowski, n_neighbors=11;, score=0.935 total time=  12.8s\n",
      "[CV 2/5] END ..metric=minkowski, n_neighbors=11;, score=0.939 total time=   7.9s\n",
      "[CV 3/5] END ..metric=minkowski, n_neighbors=11;, score=0.921 total time=   7.3s\n",
      "[CV 4/5] END ..metric=minkowski, n_neighbors=11;, score=0.934 total time=   7.6s\n",
      "[CV 5/5] END ..metric=minkowski, n_neighbors=11;, score=0.961 total time=   7.9s\n",
      "[CV 1/5] END ..metric=minkowski, n_neighbors=12;, score=0.928 total time=   8.2s\n",
      "[CV 2/5] END ..metric=minkowski, n_neighbors=12;, score=0.937 total time=  12.2s\n",
      "[CV 3/5] END ..metric=minkowski, n_neighbors=12;, score=0.924 total time=   7.5s\n",
      "[CV 4/5] END ..metric=minkowski, n_neighbors=12;, score=0.930 total time=   7.7s\n",
      "[CV 5/5] END ..metric=minkowski, n_neighbors=12;, score=0.956 total time=   7.7s\n",
      "[CV 1/5] END ..metric=minkowski, n_neighbors=13;, score=0.928 total time=   7.6s\n",
      "[CV 2/5] END ..metric=minkowski, n_neighbors=13;, score=0.935 total time=   7.5s\n",
      "[CV 3/5] END ..metric=minkowski, n_neighbors=13;, score=0.920 total time=   8.7s\n",
      "[CV 4/5] END ..metric=minkowski, n_neighbors=13;, score=0.926 total time=   8.3s\n",
      "[CV 5/5] END ..metric=minkowski, n_neighbors=13;, score=0.961 total time=   7.9s\n",
      "[CV 1/5] END ..metric=minkowski, n_neighbors=14;, score=0.923 total time=   7.4s\n",
      "[CV 2/5] END ..metric=minkowski, n_neighbors=14;, score=0.933 total time=   8.3s\n",
      "[CV 3/5] END ..metric=minkowski, n_neighbors=14;, score=0.920 total time=   7.8s\n",
      "[CV 4/5] END ..metric=minkowski, n_neighbors=14;, score=0.932 total time=   7.4s\n",
      "[CV 5/5] END ..metric=minkowski, n_neighbors=14;, score=0.956 total time=   7.4s\n",
      "[CV 1/5] END ..metric=minkowski, n_neighbors=15;, score=0.928 total time=   7.8s\n",
      "[CV 2/5] END ..metric=minkowski, n_neighbors=15;, score=0.938 total time=   7.6s\n",
      "[CV 3/5] END ..metric=minkowski, n_neighbors=15;, score=0.921 total time=   7.7s\n",
      "[CV 4/5] END ..metric=minkowski, n_neighbors=15;, score=0.933 total time=   7.5s\n",
      "[CV 5/5] END ..metric=minkowski, n_neighbors=15;, score=0.959 total time=   7.3s\n",
      "k-Nearest Neighbors Grid Search with 5-Fold Cross-Validation\n",
      "Best Score: 0.940\n",
      "Optimal Parameters:\n",
      "\tmetric: euclidean\n",
      "\tn_neighbors: 5\n",
      "Optimal k-Nearest Neighbors Model\n",
      "\n",
      "metric: euclidean\n",
      "n_neighbors: 5\n",
      "accuracy: 0.961 \n"
     ]
    }
   ],
   "source": [
    "knn = KNeighborsClassifier()\n",
    "\n",
    "param_grid = [\n",
    "    {\n",
    "        'n_neighbors': np.arange(1, 16), \n",
    "        'metric': ['euclidean', 'minkowski']\n",
    "    }\n",
    "]\n",
    "\n",
    "knn_gscv = GridSearchCV(knn, param_grid, cv=5, verbose=3)\n",
    "knn_gscv.fit(X_train,y_train) \n",
    "\n",
    "print('k-Nearest Neighbors Grid Search with 5-Fold Cross-Validation')\n",
    "print('Best Score: %.3f' % knn_gscv.best_score_)\n",
    "\n",
    "print('Optimal Parameters:') \n",
    "best_params = knn_gscv.best_params_\n",
    "for param in best_params: \n",
    "    print('\\t%s: %s' % (param, best_params[param]))\n",
    "    \n",
    "y_pred = knn_gscv.predict(X_dev)\n",
    "accuracy = accuracy_score(y_pred,y_dev)\n",
    "\n",
    "print('Optimal k-Nearest Neighbors Model')\n",
    "print('\\nmetric: euclidean\\nn_neighbors: 5\\naccuracy: %.3f ' % accuracy) "
   ]
  },
  {
   "cell_type": "markdown",
   "id": "ee70025d-975a-4983-803f-8d8f86ccbb66",
   "metadata": {},
   "source": [
    "## Part 6: Pneumonia, COVID & Tuberculosis (All Labels)\n",
    "\n",
    "### Load, pre-process and split data"
   ]
  },
  {
   "cell_type": "code",
   "execution_count": 4,
   "id": "19faaf32-b8ef-46b6-8626-6b7394b79ca2",
   "metadata": {},
   "outputs": [
    {
     "name": "stderr",
     "output_type": "stream",
     "text": [
      "100% (460 of 460) |######################| Elapsed Time: 0:01:07 Time:  0:01:07\n",
      "100% (3875 of 3875) |####################| Elapsed Time: 0:01:34 Time:  0:01:34\n",
      "100% (1341 of 1341) |####################| Elapsed Time: 0:01:57 Time:  0:01:57\n",
      "100% (650 of 650) |######################| Elapsed Time: 0:00:21 Time:  0:00:21\n"
     ]
    },
    {
     "name": "stdout",
     "output_type": "stream",
     "text": [
      "COVID19: 460\n",
      "PNEUMONIA: 2530\n",
      "NORMAL: 1341\n",
      "TURBERCULOSIS: 650\n",
      "Total: 4981\n",
      "(4981, 40000)\n",
      "(4981,)\n"
     ]
    }
   ],
   "source": [
    "labels = ['NORMAL','PNEUMONIA','COVID19','TURBERCULOSIS']\n",
    "X_train, y_train = xray_data.load_train(label_filters=labels, subset='PROP', pn_bacterial=True)\n",
    "print(X_train.shape)\n",
    "print(y_train.shape)"
   ]
  },
  {
   "cell_type": "code",
   "execution_count": 5,
   "id": "08f6ab79-f484-4c10-b482-18e5469b996b",
   "metadata": {},
   "outputs": [
    {
     "name": "stdout",
     "output_type": "stream",
     "text": [
      "(3984, 40000)\n",
      "(997, 40000)\n"
     ]
    }
   ],
   "source": [
    "X_mini_train, X_dev, y_mini_train, y_dev = train_test_split(X_train, y_train, test_size = .2, stratify = y_train)\n",
    "print(X_mini_train.shape)\n",
    "print(X_dev.shape)"
   ]
  },
  {
   "cell_type": "markdown",
   "id": "9e130694-14f9-4123-8470-c3c907ef1505",
   "metadata": {},
   "source": [
    "### Default KNN Model"
   ]
  },
  {
   "cell_type": "code",
   "execution_count": 6,
   "id": "cbd6a6b4-dd7a-460a-bb43-03e1b9f5e31c",
   "metadata": {},
   "outputs": [
    {
     "name": "stdout",
     "output_type": "stream",
     "text": [
      "Default k-Nearest Neighbors\n",
      "\n",
      "metric: minkowski\n",
      "n_neighbors: 5\n",
      "accuracy: 0.901 \n"
     ]
    }
   ],
   "source": [
    "knn = KNeighborsClassifier()\n",
    "knn.fit(X_mini_train, y_mini_train)\n",
    "y_pred = knn.predict(X_dev)\n",
    "accuracy = accuracy_score(y_pred,y_dev)\n",
    "\n",
    "print('Default k-Nearest Neighbors')\n",
    "print('\\nmetric: minkowski\\nn_neighbors: 5\\naccuracy: %.3f ' % accuracy) "
   ]
  },
  {
   "cell_type": "markdown",
   "id": "cd7c76d8-4bc8-416c-85e9-4bfb8ebae69a",
   "metadata": {},
   "source": [
    "### CrossValidated Gridsearch KNN models"
   ]
  },
  {
   "cell_type": "code",
   "execution_count": 7,
   "id": "9aeb51ce-fc4e-450a-9fd7-6650f0633fc0",
   "metadata": {},
   "outputs": [
    {
     "name": "stdout",
     "output_type": "stream",
     "text": [
      "Fitting 5 folds for each of 30 candidates, totalling 150 fits\n",
      "[CV 1/5] END ...metric=euclidean, n_neighbors=1;, score=0.906 total time=   8.1s\n",
      "[CV 2/5] END ...metric=euclidean, n_neighbors=1;, score=0.906 total time=   9.0s\n",
      "[CV 3/5] END ...metric=euclidean, n_neighbors=1;, score=0.896 total time=  13.6s\n",
      "[CV 4/5] END ...metric=euclidean, n_neighbors=1;, score=0.901 total time=  10.3s\n",
      "[CV 5/5] END ...metric=euclidean, n_neighbors=1;, score=0.911 total time=   8.9s\n",
      "[CV 1/5] END ...metric=euclidean, n_neighbors=2;, score=0.909 total time=   8.6s\n",
      "[CV 2/5] END ...metric=euclidean, n_neighbors=2;, score=0.893 total time=   8.5s\n",
      "[CV 3/5] END ...metric=euclidean, n_neighbors=2;, score=0.882 total time=   8.3s\n",
      "[CV 4/5] END ...metric=euclidean, n_neighbors=2;, score=0.882 total time=   8.7s\n",
      "[CV 5/5] END ...metric=euclidean, n_neighbors=2;, score=0.893 total time=   8.6s\n",
      "[CV 1/5] END ...metric=euclidean, n_neighbors=3;, score=0.921 total time=   8.8s\n",
      "[CV 2/5] END ...metric=euclidean, n_neighbors=3;, score=0.907 total time=   8.8s\n",
      "[CV 3/5] END ...metric=euclidean, n_neighbors=3;, score=0.885 total time=   8.6s\n",
      "[CV 4/5] END ...metric=euclidean, n_neighbors=3;, score=0.894 total time=  11.0s\n",
      "[CV 5/5] END ...metric=euclidean, n_neighbors=3;, score=0.921 total time=   8.8s\n",
      "[CV 1/5] END ...metric=euclidean, n_neighbors=4;, score=0.915 total time=   8.6s\n",
      "[CV 2/5] END ...metric=euclidean, n_neighbors=4;, score=0.906 total time=   8.8s\n",
      "[CV 3/5] END ...metric=euclidean, n_neighbors=4;, score=0.884 total time=   8.5s\n",
      "[CV 4/5] END ...metric=euclidean, n_neighbors=4;, score=0.889 total time=   9.2s\n",
      "[CV 5/5] END ...metric=euclidean, n_neighbors=4;, score=0.919 total time=   8.5s\n",
      "[CV 1/5] END ...metric=euclidean, n_neighbors=5;, score=0.915 total time=   8.4s\n",
      "[CV 2/5] END ...metric=euclidean, n_neighbors=5;, score=0.906 total time=   9.7s\n",
      "[CV 3/5] END ...metric=euclidean, n_neighbors=5;, score=0.881 total time=   8.9s\n",
      "[CV 4/5] END ...metric=euclidean, n_neighbors=5;, score=0.892 total time=   8.4s\n",
      "[CV 5/5] END ...metric=euclidean, n_neighbors=5;, score=0.923 total time=   8.7s\n",
      "[CV 1/5] END ...metric=euclidean, n_neighbors=6;, score=0.915 total time=   9.4s\n",
      "[CV 2/5] END ...metric=euclidean, n_neighbors=6;, score=0.908 total time=   8.7s\n",
      "[CV 3/5] END ...metric=euclidean, n_neighbors=6;, score=0.878 total time=   8.4s\n",
      "[CV 4/5] END ...metric=euclidean, n_neighbors=6;, score=0.885 total time=   9.2s\n",
      "[CV 5/5] END ...metric=euclidean, n_neighbors=6;, score=0.917 total time=   8.6s\n",
      "[CV 1/5] END ...metric=euclidean, n_neighbors=7;, score=0.916 total time=   8.4s\n",
      "[CV 2/5] END ...metric=euclidean, n_neighbors=7;, score=0.907 total time=   8.9s\n",
      "[CV 3/5] END ...metric=euclidean, n_neighbors=7;, score=0.874 total time=   8.3s\n",
      "[CV 4/5] END ...metric=euclidean, n_neighbors=7;, score=0.887 total time=   8.6s\n",
      "[CV 5/5] END ...metric=euclidean, n_neighbors=7;, score=0.923 total time=   8.7s\n",
      "[CV 1/5] END ...metric=euclidean, n_neighbors=8;, score=0.913 total time=   8.4s\n",
      "[CV 2/5] END ...metric=euclidean, n_neighbors=8;, score=0.908 total time=   8.4s\n",
      "[CV 3/5] END ...metric=euclidean, n_neighbors=8;, score=0.874 total time=   8.2s\n",
      "[CV 4/5] END ...metric=euclidean, n_neighbors=8;, score=0.890 total time=   8.8s\n",
      "[CV 5/5] END ...metric=euclidean, n_neighbors=8;, score=0.923 total time=   8.1s\n",
      "[CV 1/5] END ...metric=euclidean, n_neighbors=9;, score=0.908 total time=   8.2s\n",
      "[CV 2/5] END ...metric=euclidean, n_neighbors=9;, score=0.900 total time=   8.1s\n",
      "[CV 3/5] END ...metric=euclidean, n_neighbors=9;, score=0.876 total time=   8.3s\n",
      "[CV 4/5] END ...metric=euclidean, n_neighbors=9;, score=0.893 total time=   8.2s\n",
      "[CV 5/5] END ...metric=euclidean, n_neighbors=9;, score=0.925 total time=   8.0s\n",
      "[CV 1/5] END ..metric=euclidean, n_neighbors=10;, score=0.912 total time=   8.2s\n",
      "[CV 2/5] END ..metric=euclidean, n_neighbors=10;, score=0.901 total time=   8.9s\n",
      "[CV 3/5] END ..metric=euclidean, n_neighbors=10;, score=0.872 total time=  12.7s\n",
      "[CV 4/5] END ..metric=euclidean, n_neighbors=10;, score=0.890 total time=   8.9s\n",
      "[CV 5/5] END ..metric=euclidean, n_neighbors=10;, score=0.918 total time=  12.6s\n",
      "[CV 1/5] END ..metric=euclidean, n_neighbors=11;, score=0.904 total time=  10.9s\n",
      "[CV 2/5] END ..metric=euclidean, n_neighbors=11;, score=0.899 total time=  14.0s\n",
      "[CV 3/5] END ..metric=euclidean, n_neighbors=11;, score=0.870 total time=   8.3s\n",
      "[CV 4/5] END ..metric=euclidean, n_neighbors=11;, score=0.888 total time=   9.2s\n",
      "[CV 5/5] END ..metric=euclidean, n_neighbors=11;, score=0.917 total time=  14.4s\n",
      "[CV 1/5] END ..metric=euclidean, n_neighbors=12;, score=0.899 total time=   8.5s\n",
      "[CV 2/5] END ..metric=euclidean, n_neighbors=12;, score=0.898 total time=   7.9s\n",
      "[CV 3/5] END ..metric=euclidean, n_neighbors=12;, score=0.868 total time=   8.3s\n",
      "[CV 4/5] END ..metric=euclidean, n_neighbors=12;, score=0.885 total time=  11.5s\n",
      "[CV 5/5] END ..metric=euclidean, n_neighbors=12;, score=0.920 total time=   8.5s\n",
      "[CV 1/5] END ..metric=euclidean, n_neighbors=13;, score=0.897 total time=   7.8s\n",
      "[CV 2/5] END ..metric=euclidean, n_neighbors=13;, score=0.894 total time=   7.9s\n",
      "[CV 3/5] END ..metric=euclidean, n_neighbors=13;, score=0.868 total time=   7.8s\n",
      "[CV 4/5] END ..metric=euclidean, n_neighbors=13;, score=0.880 total time=   7.8s\n",
      "[CV 5/5] END ..metric=euclidean, n_neighbors=13;, score=0.918 total time=   8.2s\n",
      "[CV 1/5] END ..metric=euclidean, n_neighbors=14;, score=0.896 total time=   7.9s\n",
      "[CV 2/5] END ..metric=euclidean, n_neighbors=14;, score=0.890 total time=   8.1s\n",
      "[CV 3/5] END ..metric=euclidean, n_neighbors=14;, score=0.868 total time=   8.0s\n",
      "[CV 4/5] END ..metric=euclidean, n_neighbors=14;, score=0.880 total time=   7.8s\n",
      "[CV 5/5] END ..metric=euclidean, n_neighbors=14;, score=0.917 total time=   7.7s\n",
      "[CV 1/5] END ..metric=euclidean, n_neighbors=15;, score=0.891 total time=   7.6s\n",
      "[CV 2/5] END ..metric=euclidean, n_neighbors=15;, score=0.891 total time=   8.0s\n",
      "[CV 3/5] END ..metric=euclidean, n_neighbors=15;, score=0.868 total time=   7.7s\n",
      "[CV 4/5] END ..metric=euclidean, n_neighbors=15;, score=0.885 total time=   7.7s\n",
      "[CV 5/5] END ..metric=euclidean, n_neighbors=15;, score=0.917 total time=   8.0s\n",
      "[CV 1/5] END ...metric=minkowski, n_neighbors=1;, score=0.906 total time=   7.8s\n",
      "[CV 2/5] END ...metric=minkowski, n_neighbors=1;, score=0.906 total time=   7.7s\n",
      "[CV 3/5] END ...metric=minkowski, n_neighbors=1;, score=0.896 total time=   8.4s\n",
      "[CV 4/5] END ...metric=minkowski, n_neighbors=1;, score=0.901 total time=   8.9s\n",
      "[CV 5/5] END ...metric=minkowski, n_neighbors=1;, score=0.911 total time=   9.4s\n",
      "[CV 1/5] END ...metric=minkowski, n_neighbors=2;, score=0.909 total time=   9.2s\n",
      "[CV 2/5] END ...metric=minkowski, n_neighbors=2;, score=0.893 total time=  10.2s\n",
      "[CV 3/5] END ...metric=minkowski, n_neighbors=2;, score=0.882 total time=   8.7s\n",
      "[CV 4/5] END ...metric=minkowski, n_neighbors=2;, score=0.882 total time=   9.1s\n",
      "[CV 5/5] END ...metric=minkowski, n_neighbors=2;, score=0.893 total time=   9.2s\n",
      "[CV 1/5] END ...metric=minkowski, n_neighbors=3;, score=0.921 total time=  10.0s\n",
      "[CV 2/5] END ...metric=minkowski, n_neighbors=3;, score=0.907 total time=   7.7s\n",
      "[CV 3/5] END ...metric=minkowski, n_neighbors=3;, score=0.885 total time=   7.7s\n",
      "[CV 4/5] END ...metric=minkowski, n_neighbors=3;, score=0.894 total time=   7.7s\n",
      "[CV 5/5] END ...metric=minkowski, n_neighbors=3;, score=0.921 total time=   8.0s\n",
      "[CV 1/5] END ...metric=minkowski, n_neighbors=4;, score=0.915 total time=   8.5s\n",
      "[CV 2/5] END ...metric=minkowski, n_neighbors=4;, score=0.906 total time=   8.3s\n",
      "[CV 3/5] END ...metric=minkowski, n_neighbors=4;, score=0.884 total time=   8.7s\n",
      "[CV 4/5] END ...metric=minkowski, n_neighbors=4;, score=0.889 total time=   8.6s\n",
      "[CV 5/5] END ...metric=minkowski, n_neighbors=4;, score=0.919 total time=   8.3s\n",
      "[CV 1/5] END ...metric=minkowski, n_neighbors=5;, score=0.915 total time=   8.6s\n",
      "[CV 2/5] END ...metric=minkowski, n_neighbors=5;, score=0.906 total time=   8.3s\n",
      "[CV 3/5] END ...metric=minkowski, n_neighbors=5;, score=0.881 total time=   8.2s\n",
      "[CV 4/5] END ...metric=minkowski, n_neighbors=5;, score=0.892 total time=   8.3s\n",
      "[CV 5/5] END ...metric=minkowski, n_neighbors=5;, score=0.923 total time=   8.6s\n",
      "[CV 1/5] END ...metric=minkowski, n_neighbors=6;, score=0.915 total time=   8.2s\n",
      "[CV 2/5] END ...metric=minkowski, n_neighbors=6;, score=0.908 total time=   8.1s\n",
      "[CV 3/5] END ...metric=minkowski, n_neighbors=6;, score=0.878 total time=   8.0s\n",
      "[CV 4/5] END ...metric=minkowski, n_neighbors=6;, score=0.885 total time=   7.8s\n",
      "[CV 5/5] END ...metric=minkowski, n_neighbors=6;, score=0.917 total time=   8.1s\n",
      "[CV 1/5] END ...metric=minkowski, n_neighbors=7;, score=0.916 total time=   7.7s\n",
      "[CV 2/5] END ...metric=minkowski, n_neighbors=7;, score=0.907 total time=   8.0s\n",
      "[CV 3/5] END ...metric=minkowski, n_neighbors=7;, score=0.874 total time=   7.7s\n",
      "[CV 4/5] END ...metric=minkowski, n_neighbors=7;, score=0.887 total time=   7.7s\n",
      "[CV 5/5] END ...metric=minkowski, n_neighbors=7;, score=0.923 total time=   7.8s\n",
      "[CV 1/5] END ...metric=minkowski, n_neighbors=8;, score=0.913 total time=   7.7s\n",
      "[CV 2/5] END ...metric=minkowski, n_neighbors=8;, score=0.908 total time=   7.8s\n",
      "[CV 3/5] END ...metric=minkowski, n_neighbors=8;, score=0.874 total time=   7.7s\n",
      "[CV 4/5] END ...metric=minkowski, n_neighbors=8;, score=0.890 total time=   7.7s\n",
      "[CV 5/5] END ...metric=minkowski, n_neighbors=8;, score=0.923 total time=   8.0s\n",
      "[CV 1/5] END ...metric=minkowski, n_neighbors=9;, score=0.908 total time=   7.8s\n",
      "[CV 2/5] END ...metric=minkowski, n_neighbors=9;, score=0.900 total time=   8.5s\n",
      "[CV 3/5] END ...metric=minkowski, n_neighbors=9;, score=0.876 total time=   7.7s\n",
      "[CV 4/5] END ...metric=minkowski, n_neighbors=9;, score=0.893 total time=   7.9s\n",
      "[CV 5/5] END ...metric=minkowski, n_neighbors=9;, score=0.925 total time=   7.7s\n",
      "[CV 1/5] END ..metric=minkowski, n_neighbors=10;, score=0.912 total time=   7.8s\n",
      "[CV 2/5] END ..metric=minkowski, n_neighbors=10;, score=0.901 total time=   8.5s\n",
      "[CV 3/5] END ..metric=minkowski, n_neighbors=10;, score=0.872 total time=   7.8s\n",
      "[CV 4/5] END ..metric=minkowski, n_neighbors=10;, score=0.890 total time=   7.8s\n",
      "[CV 5/5] END ..metric=minkowski, n_neighbors=10;, score=0.918 total time=   7.7s\n",
      "[CV 1/5] END ..metric=minkowski, n_neighbors=11;, score=0.904 total time=   7.8s\n",
      "[CV 2/5] END ..metric=minkowski, n_neighbors=11;, score=0.899 total time=   7.7s\n",
      "[CV 3/5] END ..metric=minkowski, n_neighbors=11;, score=0.870 total time=   7.7s\n",
      "[CV 4/5] END ..metric=minkowski, n_neighbors=11;, score=0.888 total time=   7.7s\n",
      "[CV 5/5] END ..metric=minkowski, n_neighbors=11;, score=0.917 total time=   8.0s\n",
      "[CV 1/5] END ..metric=minkowski, n_neighbors=12;, score=0.899 total time=   9.9s\n",
      "[CV 2/5] END ..metric=minkowski, n_neighbors=12;, score=0.898 total time=   7.7s\n",
      "[CV 3/5] END ..metric=minkowski, n_neighbors=12;, score=0.868 total time=   7.7s\n",
      "[CV 4/5] END ..metric=minkowski, n_neighbors=12;, score=0.885 total time=   7.7s\n",
      "[CV 5/5] END ..metric=minkowski, n_neighbors=12;, score=0.920 total time=   7.6s\n",
      "[CV 1/5] END ..metric=minkowski, n_neighbors=13;, score=0.897 total time=   7.8s\n",
      "[CV 2/5] END ..metric=minkowski, n_neighbors=13;, score=0.894 total time=   8.3s\n",
      "[CV 3/5] END ..metric=minkowski, n_neighbors=13;, score=0.868 total time=   7.8s\n",
      "[CV 4/5] END ..metric=minkowski, n_neighbors=13;, score=0.880 total time=   7.7s\n",
      "[CV 5/5] END ..metric=minkowski, n_neighbors=13;, score=0.918 total time=   8.0s\n",
      "[CV 1/5] END ..metric=minkowski, n_neighbors=14;, score=0.896 total time=   8.0s\n",
      "[CV 2/5] END ..metric=minkowski, n_neighbors=14;, score=0.890 total time=   7.7s\n",
      "[CV 3/5] END ..metric=minkowski, n_neighbors=14;, score=0.868 total time=   8.0s\n",
      "[CV 4/5] END ..metric=minkowski, n_neighbors=14;, score=0.880 total time=   7.7s\n",
      "[CV 5/5] END ..metric=minkowski, n_neighbors=14;, score=0.917 total time=   8.0s\n",
      "[CV 1/5] END ..metric=minkowski, n_neighbors=15;, score=0.891 total time=   7.8s\n",
      "[CV 2/5] END ..metric=minkowski, n_neighbors=15;, score=0.891 total time=   7.7s\n",
      "[CV 3/5] END ..metric=minkowski, n_neighbors=15;, score=0.868 total time=   7.8s\n",
      "[CV 4/5] END ..metric=minkowski, n_neighbors=15;, score=0.885 total time=   7.7s\n",
      "[CV 5/5] END ..metric=minkowski, n_neighbors=15;, score=0.917 total time=   7.6s\n",
      "k-Nearest Neighbors Grid Search with 5-Fold Cross-Validation\n",
      "Best Score: 0.905\n",
      "Optimal Parameters:\n",
      "\tmetric: euclidean\n",
      "\tn_neighbors: 3\n",
      "Optimal k-Nearest Neighbors Model\n",
      "\n",
      "metric: euclidean\n",
      "n_neighbors: 5\n",
      "accuracy: 0.954 \n"
     ]
    }
   ],
   "source": [
    "knn = KNeighborsClassifier()\n",
    "\n",
    "param_grid = [\n",
    "    {\n",
    "        'n_neighbors': np.arange(1, 16), \n",
    "        'metric': ['euclidean', 'minkowski']\n",
    "    }\n",
    "]\n",
    "\n",
    "knn_gscv = GridSearchCV(knn, param_grid, cv=5, verbose=3)\n",
    "knn_gscv.fit(X_train,y_train) \n",
    "\n",
    "print('k-Nearest Neighbors Grid Search with 5-Fold Cross-Validation')\n",
    "print('Best Score: %.3f' % knn_gscv.best_score_)\n",
    "\n",
    "print('Optimal Parameters:') \n",
    "best_params = knn_gscv.best_params_\n",
    "for param in best_params: \n",
    "    print('\\t%s: %s' % (param, best_params[param]))\n",
    "    \n",
    "y_pred = knn_gscv.predict(X_dev)\n",
    "accuracy = accuracy_score(y_pred,y_dev)\n",
    "\n",
    "print('Optimal k-Nearest Neighbors Model')\n",
    "print('\\nmetric: euclidean\\nn_neighbors: 5\\naccuracy: %.3f ' % accuracy) "
   ]
  },
  {
   "cell_type": "code",
   "execution_count": 10,
   "id": "ae0ddb31-97f2-414f-a288-7fc761d2f850",
   "metadata": {},
   "outputs": [
    {
     "data": {
      "text/plain": [
       "array([[258,  11,   0,   0],\n",
       "       [  9, 497,   0,   0],\n",
       "       [  0,   5,  85,   2],\n",
       "       [  0,   7,  12, 111]])"
      ]
     },
     "execution_count": 10,
     "metadata": {},
     "output_type": "execute_result"
    }
   ],
   "source": [
    "confusion_matrix(y_dev, y_pred)"
   ]
  }
 ],
 "metadata": {
  "kernelspec": {
   "display_name": "Python 3 (ipykernel)",
   "language": "python",
   "name": "python3"
  },
  "language_info": {
   "codemirror_mode": {
    "name": "ipython",
    "version": 3
   },
   "file_extension": ".py",
   "mimetype": "text/x-python",
   "name": "python",
   "nbconvert_exporter": "python",
   "pygments_lexer": "ipython3",
   "version": "3.9.7"
  }
 },
 "nbformat": 4,
 "nbformat_minor": 5
}
