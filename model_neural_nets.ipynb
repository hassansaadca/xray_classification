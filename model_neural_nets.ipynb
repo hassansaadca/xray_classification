{
 "cells": [
  {
   "cell_type": "markdown",
   "metadata": {},
   "source": [
    "# First Model Iteration - Healthy vs. Pneumonia "
   ]
  },
  {
   "cell_type": "markdown",
   "metadata": {},
   "source": [
    "### Data Pre-Processing"
   ]
  },
  {
   "cell_type": "code",
   "execution_count": 2,
   "metadata": {},
   "outputs": [],
   "source": [
    "#all necessary imports\n",
    "import time\n",
    "import numpy as np\n",
    "import pandas as pd\n",
    "import random\n",
    "import matplotlib.pyplot as plt\n",
    "from matplotlib.ticker import MultipleLocator\n",
    "from sklearn.pipeline import Pipeline\n",
    "from sklearn.datasets import fetch_openml\n",
    "from sklearn.neighbors import KNeighborsClassifier\n",
    "from sklearn.metrics import confusion_matrix\n",
    "from sklearn.linear_model import LinearRegression\n",
    "from sklearn.naive_bayes import BernoulliNB\n",
    "from sklearn.naive_bayes import MultinomialNB\n",
    "from sklearn.naive_bayes import GaussianNB\n",
    "from sklearn.model_selection import GridSearchCV\n",
    "from sklearn.metrics import classification_report\n",
    "from sklearn.metrics import accuracy_score\n",
    "from sklearn.linear_model import Perceptron\n",
    "from sklearn.neural_network import MLPClassifier\n",
    "\n",
    "from sklearn.model_selection import train_test_split\n",
    "\n",
    "from sklearn import svm\n",
    "from sklearn.model_selection import GridSearchCV\n",
    "\n",
    "import xray_data #y data: 1 = NORMAL, 0 = PNEUMONIA"
   ]
  },
  {
   "cell_type": "code",
   "execution_count": 4,
   "metadata": {},
   "outputs": [],
   "source": [
    "#Constants\n",
    "scale = 200\n",
    "#only load in the normal and pneumonia values\n",
    "label_filter = ['NORMAL','PNEUMONIA']\n",
    "subset = 'PROP' # either \"EQL\" or \"PROP\"\n",
    "random.seed(207)"
   ]
  },
  {
   "cell_type": "code",
   "execution_count": 3,
   "metadata": {},
   "outputs": [
    {
     "name": "stderr",
     "output_type": "stream",
     "text": [
      "100% |#########################################################################|\n",
      "100% |#########################################################################|\n",
      "100% |#########################################################################|\n",
      "100% |#########################################################################|\n",
      "100% |#########################################################################|\n",
      "  5% |###                                                                      |\r"
     ]
    },
    {
     "name": "stdout",
     "output_type": "stream",
     "text": [
      "PNEUMONIA: 8\n",
      "NORMAL: 8\n",
      "Total: 16\n",
      "X_dev_orig, y_dev_orig shape: ((16, 40000), (16,))\n",
      "y_dev_orig shape for NORMAL cases: (8,)\n",
      "----\n"
     ]
    },
    {
     "name": "stderr",
     "output_type": "stream",
     "text": [
      "100% |#########################################################################|\n",
      "100% |#########################################################################|\n",
      "100% |#########################################################################|\n",
      "100% |#########################################################################|\n",
      "  0% |                                                                         |\r"
     ]
    },
    {
     "name": "stdout",
     "output_type": "stream",
     "text": [
      "PNEUMONIA: 143\n",
      "NORMAL: 86\n",
      "Total: 229\n",
      "X_test, y_test shape: ((229, 40000), (229,))\n",
      "y_test shape for NORMAL cases: (86,)\n",
      "----\n"
     ]
    },
    {
     "name": "stderr",
     "output_type": "stream",
     "text": [
      "100% |#########################################################################|\n",
      "100% |#########################################################################|\n",
      "100% |#########################################################################|\n"
     ]
    },
    {
     "name": "stdout",
     "output_type": "stream",
     "text": [
      "PNEUMONIA: 3875\n",
      "NORMAL: 1341\n",
      "Total: 5216\n"
     ]
    }
   ],
   "source": [
    "#load in dev data\n",
    "X_dev_orig, y_dev_orig = xray_data.load_val(scale,label_filter,subset=subset)\n",
    "print(f'X_dev_orig, y_dev_orig shape: {X_dev_orig.shape, y_dev_orig.shape}')\n",
    "print(f'y_dev_orig shape for NORMAL cases: {y_dev_orig[y_dev_orig ==1].shape}')\n",
    "print('----')\n",
    "\n",
    "# cut of for training samples of each class, only 230 normal rows\n",
    "test_cutoff = 230\n",
    "\n",
    "#load in test data - won't be used until very end\n",
    "X_test, y_test = xray_data.load_test(scale,label_filter,test_cutoff,subset=subset)\n",
    "print(f'X_test, y_test shape: {X_test.shape, y_test.shape}')\n",
    "print(f'y_test shape for NORMAL cases: {y_test[y_test ==1].shape}')\n",
    "print('----')\n",
    "\n",
    "# cut of for training samples of each class, only 1300 normal rows\n",
    "train_cutoff = 1300\n",
    "\n",
    "X_train, y_train = xray_data.load_train(scale,label_filter,subset=subset)"
   ]
  },
  {
   "cell_type": "code",
   "execution_count": 4,
   "metadata": {},
   "outputs": [
    {
     "name": "stdout",
     "output_type": "stream",
     "text": [
      "0.4799373263138842 0.23625422461763224\n",
      "(5216, 40000)\n",
      "adjusted train (5216, 40000)\n"
     ]
    }
   ],
   "source": [
    "#normalize image using functions from xray_data file\n",
    "(mean,std) = xray_data.find_mean_std(X_train)\n",
    "print(mean,std)\n",
    "print(X_train.shape)\n",
    "adjusted_X_train = xray_data.normalize_images(X_train,mean,std)\n",
    "print (f'adjusted train {adjusted_X_train.shape}')\n",
    "adjusted_X_dev_org = xray_data.normalize_images(X_dev_orig,mean,std)\n",
    "adjusted_X_test = xray_data.normalize_images(X_test,mean,std)"
   ]
  },
  {
   "cell_type": "code",
   "execution_count": 5,
   "metadata": {},
   "outputs": [
    {
     "name": "stdout",
     "output_type": "stream",
     "text": [
      "X_train, y_train shape: ((4694, 40000), (4694,))\n",
      "y_train shape for NORMAL cases: (1207,)\n",
      "----\n",
      "X_dev, y_dev shape: ((522, 40000), (522,))\n",
      "y_dev shape for NORMAL cases: (134,)\n"
     ]
    }
   ],
   "source": [
    "#split the train set into train and dev for intermediate testing\n",
    "X_train, X_dev, y_train, y_dev = train_test_split(X_train, y_train, test_size = .1, stratify = y_train )\n",
    "print(f'X_train, y_train shape: {X_train.shape, y_train.shape}')\n",
    "print(f'y_train shape for NORMAL cases: {y_train[y_train ==1].shape}')\n",
    "print('----')\n",
    "print(f'X_dev, y_dev shape: {X_dev.shape, y_dev.shape}')\n",
    "print(f'y_dev shape for NORMAL cases: {y_dev[y_dev ==1].shape}')"
   ]
  },
  {
   "cell_type": "markdown",
   "metadata": {},
   "source": [
    "### Model 1A: Single Layer Perceptron"
   ]
  },
  {
   "cell_type": "code",
   "execution_count": 7,
   "metadata": {},
   "outputs": [
    {
     "name": "stdout",
     "output_type": "stream",
     "text": [
      "Single Layer Perceptron Model Accuracy:    96.552\n"
     ]
    }
   ],
   "source": [
    "#define model, fit on train, predict on dev, print accuracy \n",
    "per_mod = Perceptron(random_state = 42)\n",
    "per_mod.fit(X_train, y_train)\n",
    "per_pred = per_mod.predict(X_dev)\n",
    "print(f'Single Layer Perceptron Model Accuracy: {accuracy_score(per_pred,y_dev)*100:9.5}')"
   ]
  },
  {
   "cell_type": "markdown",
   "metadata": {},
   "source": [
    "### Model 1B: Multi-Layer Perceptron"
   ]
  },
  {
   "cell_type": "code",
   "execution_count": 11,
   "metadata": {},
   "outputs": [
    {
     "name": "stdout",
     "output_type": "stream",
     "text": [
      "Multi Layer Perceptron Model Accuracy:    95.211\n"
     ]
    }
   ],
   "source": [
    "#use default parameters for MLP model\n",
    "mlp_mod = MLPClassifier(solver='lbfgs', alpha=1e-5, hidden_layer_sizes=(5,2), max_iter = 1000, random_state=1)\n",
    "mlp_mod.fit(X_train, y_train)\n",
    "mlp_pred = mlp_mod.predict(X_dev)\n",
    "print(f'Multi Layer Perceptron Model Accuracy: {accuracy_score(mlp_pred,y_dev)*100:9.5}')"
   ]
  },
  {
   "cell_type": "markdown",
   "metadata": {},
   "source": [
    "Because for a single model implementation we got a higher accuracy using the multi-layer perceptron, that's the model we will run our GridSearchCV on."
   ]
  },
  {
   "cell_type": "markdown",
   "metadata": {},
   "source": [
    "### Model 1C: Multi-Layer Perceptron with GridsearchCV"
   ]
  },
  {
   "cell_type": "code",
   "execution_count": 18,
   "metadata": {},
   "outputs": [
    {
     "name": "stdout",
     "output_type": "stream",
     "text": [
      "Fitting 5 folds for each of 16 candidates, totalling 80 fits\n",
      "[CV 1/5] END activation=identity, alpha=10, hidden_layer_sizes=(5, 2), max_iter=1000, solver=lbfgs;, score=0.963 total time= 1.3min\n",
      "[CV 2/5] END activation=identity, alpha=10, hidden_layer_sizes=(5, 2), max_iter=1000, solver=lbfgs;, score=0.968 total time= 1.2min\n",
      "[CV 3/5] END activation=identity, alpha=10, hidden_layer_sizes=(5, 2), max_iter=1000, solver=lbfgs;, score=0.962 total time= 1.2min\n",
      "[CV 4/5] END activation=identity, alpha=10, hidden_layer_sizes=(5, 2), max_iter=1000, solver=lbfgs;, score=0.969 total time= 1.0min\n",
      "[CV 5/5] END activation=identity, alpha=10, hidden_layer_sizes=(5, 2), max_iter=1000, solver=lbfgs;, score=0.968 total time= 1.1min\n",
      "[CV 1/5] END activation=identity, alpha=10, hidden_layer_sizes=(5,), max_iter=1000, solver=lbfgs;, score=0.963 total time= 1.1min\n",
      "[CV 2/5] END activation=identity, alpha=10, hidden_layer_sizes=(5,), max_iter=1000, solver=lbfgs;, score=0.969 total time=  52.3s\n",
      "[CV 3/5] END activation=identity, alpha=10, hidden_layer_sizes=(5,), max_iter=1000, solver=lbfgs;, score=0.963 total time= 1.1min\n",
      "[CV 4/5] END activation=identity, alpha=10, hidden_layer_sizes=(5,), max_iter=1000, solver=lbfgs;, score=0.967 total time= 1.0min\n",
      "[CV 5/5] END activation=identity, alpha=10, hidden_layer_sizes=(5,), max_iter=1000, solver=lbfgs;, score=0.968 total time=  50.2s\n",
      "[CV 1/5] END activation=identity, alpha=1, hidden_layer_sizes=(5, 2), max_iter=1000, solver=lbfgs;, score=0.963 total time=  54.7s\n",
      "[CV 2/5] END activation=identity, alpha=1, hidden_layer_sizes=(5, 2), max_iter=1000, solver=lbfgs;, score=0.967 total time=  54.2s\n",
      "[CV 3/5] END activation=identity, alpha=1, hidden_layer_sizes=(5, 2), max_iter=1000, solver=lbfgs;, score=0.961 total time=  47.5s\n",
      "[CV 4/5] END activation=identity, alpha=1, hidden_layer_sizes=(5, 2), max_iter=1000, solver=lbfgs;, score=0.969 total time= 1.1min\n",
      "[CV 5/5] END activation=identity, alpha=1, hidden_layer_sizes=(5, 2), max_iter=1000, solver=lbfgs;, score=0.974 total time= 1.2min\n",
      "[CV 1/5] END activation=identity, alpha=1, hidden_layer_sizes=(5,), max_iter=1000, solver=lbfgs;, score=0.964 total time=  37.0s\n",
      "[CV 2/5] END activation=identity, alpha=1, hidden_layer_sizes=(5,), max_iter=1000, solver=lbfgs;, score=0.969 total time=  36.8s\n",
      "[CV 3/5] END activation=identity, alpha=1, hidden_layer_sizes=(5,), max_iter=1000, solver=lbfgs;, score=0.961 total time=  30.7s\n",
      "[CV 4/5] END activation=identity, alpha=1, hidden_layer_sizes=(5,), max_iter=1000, solver=lbfgs;, score=0.966 total time=  28.0s\n",
      "[CV 5/5] END activation=identity, alpha=1, hidden_layer_sizes=(5,), max_iter=1000, solver=lbfgs;, score=0.967 total time=  25.4s\n",
      "[CV 1/5] END activation=identity, alpha=0.1, hidden_layer_sizes=(5, 2), max_iter=1000, solver=lbfgs;, score=0.957 total time=  19.2s\n",
      "[CV 2/5] END activation=identity, alpha=0.1, hidden_layer_sizes=(5, 2), max_iter=1000, solver=lbfgs;, score=0.966 total time=  28.0s\n",
      "[CV 3/5] END activation=identity, alpha=0.1, hidden_layer_sizes=(5, 2), max_iter=1000, solver=lbfgs;, score=0.957 total time=  26.6s\n",
      "[CV 4/5] END activation=identity, alpha=0.1, hidden_layer_sizes=(5, 2), max_iter=1000, solver=lbfgs;, score=0.963 total time=  29.2s\n",
      "[CV 5/5] END activation=identity, alpha=0.1, hidden_layer_sizes=(5, 2), max_iter=1000, solver=lbfgs;, score=0.967 total time=  25.1s\n",
      "[CV 1/5] END activation=identity, alpha=0.1, hidden_layer_sizes=(5,), max_iter=1000, solver=lbfgs;, score=0.958 total time=  28.8s\n",
      "[CV 2/5] END activation=identity, alpha=0.1, hidden_layer_sizes=(5,), max_iter=1000, solver=lbfgs;, score=0.966 total time=  29.8s\n",
      "[CV 3/5] END activation=identity, alpha=0.1, hidden_layer_sizes=(5,), max_iter=1000, solver=lbfgs;, score=0.958 total time=  27.4s\n",
      "[CV 4/5] END activation=identity, alpha=0.1, hidden_layer_sizes=(5,), max_iter=1000, solver=lbfgs;, score=0.966 total time=  36.4s\n",
      "[CV 5/5] END activation=identity, alpha=0.1, hidden_layer_sizes=(5,), max_iter=1000, solver=lbfgs;, score=0.967 total time=  31.2s\n",
      "[CV 1/5] END activation=identity, alpha=0.0001, hidden_layer_sizes=(5, 2), max_iter=1000, solver=lbfgs;, score=0.954 total time=  17.2s\n",
      "[CV 2/5] END activation=identity, alpha=0.0001, hidden_layer_sizes=(5, 2), max_iter=1000, solver=lbfgs;, score=0.963 total time=  15.2s\n",
      "[CV 3/5] END activation=identity, alpha=0.0001, hidden_layer_sizes=(5, 2), max_iter=1000, solver=lbfgs;, score=0.961 total time=  17.8s\n",
      "[CV 4/5] END activation=identity, alpha=0.0001, hidden_layer_sizes=(5, 2), max_iter=1000, solver=lbfgs;, score=0.966 total time=  17.7s\n",
      "[CV 5/5] END activation=identity, alpha=0.0001, hidden_layer_sizes=(5, 2), max_iter=1000, solver=lbfgs;, score=0.964 total time=  19.3s\n",
      "[CV 1/5] END activation=identity, alpha=0.0001, hidden_layer_sizes=(5,), max_iter=1000, solver=lbfgs;, score=0.955 total time=  13.5s\n",
      "[CV 2/5] END activation=identity, alpha=0.0001, hidden_layer_sizes=(5,), max_iter=1000, solver=lbfgs;, score=0.967 total time=  20.3s\n",
      "[CV 3/5] END activation=identity, alpha=0.0001, hidden_layer_sizes=(5,), max_iter=1000, solver=lbfgs;, score=0.953 total time=  18.5s\n",
      "[CV 4/5] END activation=identity, alpha=0.0001, hidden_layer_sizes=(5,), max_iter=1000, solver=lbfgs;, score=0.968 total time=  14.7s\n",
      "[CV 5/5] END activation=identity, alpha=0.0001, hidden_layer_sizes=(5,), max_iter=1000, solver=lbfgs;, score=0.963 total time=  11.5s\n",
      "[CV 1/5] END activation=logistic, alpha=10, hidden_layer_sizes=(5, 2), max_iter=1000, solver=lbfgs;, score=0.743 total time=   4.5s\n",
      "[CV 2/5] END activation=logistic, alpha=10, hidden_layer_sizes=(5, 2), max_iter=1000, solver=lbfgs;, score=0.743 total time=   5.0s\n",
      "[CV 3/5] END activation=logistic, alpha=10, hidden_layer_sizes=(5, 2), max_iter=1000, solver=lbfgs;, score=0.966 total time= 2.1min\n",
      "[CV 4/5] END activation=logistic, alpha=10, hidden_layer_sizes=(5, 2), max_iter=1000, solver=lbfgs;, score=0.967 total time= 3.2min\n",
      "[CV 5/5] END activation=logistic, alpha=10, hidden_layer_sizes=(5, 2), max_iter=1000, solver=lbfgs;, score=0.971 total time= 3.1min\n",
      "[CV 1/5] END activation=logistic, alpha=10, hidden_layer_sizes=(5,), max_iter=1000, solver=lbfgs;, score=0.958 total time= 3.4min\n",
      "[CV 2/5] END activation=logistic, alpha=10, hidden_layer_sizes=(5,), max_iter=1000, solver=lbfgs;, score=0.969 total time= 2.9min\n",
      "[CV 3/5] END activation=logistic, alpha=10, hidden_layer_sizes=(5,), max_iter=1000, solver=lbfgs;, score=0.966 total time= 2.2min\n",
      "[CV 4/5] END activation=logistic, alpha=10, hidden_layer_sizes=(5,), max_iter=1000, solver=lbfgs;, score=0.968 total time= 2.8min\n"
     ]
    },
    {
     "name": "stderr",
     "output_type": "stream",
     "text": [
      "/Users/alexandradrossos/miniforge3/envs/tf_m1/lib/python3.8/site-packages/sklearn/neural_network/_multilayer_perceptron.py:549: ConvergenceWarning: lbfgs failed to converge (status=1):\n",
      "STOP: TOTAL NO. of ITERATIONS REACHED LIMIT.\n",
      "\n",
      "Increase the number of iterations (max_iter) or scale the data as shown in:\n",
      "    https://scikit-learn.org/stable/modules/preprocessing.html\n",
      "  self.n_iter_ = _check_optimize_result(\"lbfgs\", opt_res, self.max_iter)\n"
     ]
    },
    {
     "name": "stdout",
     "output_type": "stream",
     "text": [
      "[CV 5/5] END activation=logistic, alpha=10, hidden_layer_sizes=(5,), max_iter=1000, solver=lbfgs;, score=0.971 total time= 3.1min\n",
      "[CV 1/5] END activation=logistic, alpha=1, hidden_layer_sizes=(5, 2), max_iter=1000, solver=lbfgs;, score=0.743 total time=   6.0s\n",
      "[CV 2/5] END activation=logistic, alpha=1, hidden_layer_sizes=(5, 2), max_iter=1000, solver=lbfgs;, score=0.743 total time=   4.0s\n",
      "[CV 3/5] END activation=logistic, alpha=1, hidden_layer_sizes=(5, 2), max_iter=1000, solver=lbfgs;, score=0.742 total time=   3.7s\n",
      "[CV 4/5] END activation=logistic, alpha=1, hidden_layer_sizes=(5, 2), max_iter=1000, solver=lbfgs;, score=0.742 total time=   3.1s\n",
      "[CV 5/5] END activation=logistic, alpha=1, hidden_layer_sizes=(5, 2), max_iter=1000, solver=lbfgs;, score=0.743 total time=   3.3s\n"
     ]
    },
    {
     "name": "stderr",
     "output_type": "stream",
     "text": [
      "/Users/alexandradrossos/miniforge3/envs/tf_m1/lib/python3.8/site-packages/sklearn/neural_network/_multilayer_perceptron.py:549: ConvergenceWarning: lbfgs failed to converge (status=1):\n",
      "STOP: TOTAL NO. of ITERATIONS REACHED LIMIT.\n",
      "\n",
      "Increase the number of iterations (max_iter) or scale the data as shown in:\n",
      "    https://scikit-learn.org/stable/modules/preprocessing.html\n",
      "  self.n_iter_ = _check_optimize_result(\"lbfgs\", opt_res, self.max_iter)\n"
     ]
    },
    {
     "name": "stdout",
     "output_type": "stream",
     "text": [
      "[CV 1/5] END activation=logistic, alpha=1, hidden_layer_sizes=(5,), max_iter=1000, solver=lbfgs;, score=0.963 total time= 3.1min\n",
      "[CV 2/5] END activation=logistic, alpha=1, hidden_layer_sizes=(5,), max_iter=1000, solver=lbfgs;, score=0.743 total time=   6.7s\n",
      "[CV 3/5] END activation=logistic, alpha=1, hidden_layer_sizes=(5,), max_iter=1000, solver=lbfgs;, score=0.963 total time= 1.4min\n",
      "[CV 4/5] END activation=logistic, alpha=1, hidden_layer_sizes=(5,), max_iter=1000, solver=lbfgs;, score=0.966 total time= 2.9min\n",
      "[CV 5/5] END activation=logistic, alpha=1, hidden_layer_sizes=(5,), max_iter=1000, solver=lbfgs;, score=0.967 total time= 1.4min\n",
      "[CV 1/5] END activation=logistic, alpha=0.1, hidden_layer_sizes=(5, 2), max_iter=1000, solver=lbfgs;, score=0.743 total time=   2.3s\n",
      "[CV 2/5] END activation=logistic, alpha=0.1, hidden_layer_sizes=(5, 2), max_iter=1000, solver=lbfgs;, score=0.743 total time=   2.2s\n",
      "[CV 3/5] END activation=logistic, alpha=0.1, hidden_layer_sizes=(5, 2), max_iter=1000, solver=lbfgs;, score=0.960 total time= 2.2min\n",
      "[CV 4/5] END activation=logistic, alpha=0.1, hidden_layer_sizes=(5, 2), max_iter=1000, solver=lbfgs;, score=0.742 total time=   2.5s\n",
      "[CV 5/5] END activation=logistic, alpha=0.1, hidden_layer_sizes=(5, 2), max_iter=1000, solver=lbfgs;, score=0.743 total time=   2.2s\n",
      "[CV 1/5] END activation=logistic, alpha=0.1, hidden_layer_sizes=(5,), max_iter=1000, solver=lbfgs;, score=0.960 total time= 2.2min\n",
      "[CV 2/5] END activation=logistic, alpha=0.1, hidden_layer_sizes=(5,), max_iter=1000, solver=lbfgs;, score=0.743 total time=   2.4s\n",
      "[CV 3/5] END activation=logistic, alpha=0.1, hidden_layer_sizes=(5,), max_iter=1000, solver=lbfgs;, score=0.742 total time=   2.3s\n",
      "[CV 4/5] END activation=logistic, alpha=0.1, hidden_layer_sizes=(5,), max_iter=1000, solver=lbfgs;, score=0.742 total time=   1.9s\n",
      "[CV 5/5] END activation=logistic, alpha=0.1, hidden_layer_sizes=(5,), max_iter=1000, solver=lbfgs;, score=0.743 total time=   1.5s\n",
      "[CV 1/5] END activation=logistic, alpha=0.0001, hidden_layer_sizes=(5, 2), max_iter=1000, solver=lbfgs;, score=0.743 total time=   2.2s\n",
      "[CV 2/5] END activation=logistic, alpha=0.0001, hidden_layer_sizes=(5, 2), max_iter=1000, solver=lbfgs;, score=0.858 total time=  11.2s\n",
      "[CV 3/5] END activation=logistic, alpha=0.0001, hidden_layer_sizes=(5, 2), max_iter=1000, solver=lbfgs;, score=0.957 total time= 1.3min\n",
      "[CV 4/5] END activation=logistic, alpha=0.0001, hidden_layer_sizes=(5, 2), max_iter=1000, solver=lbfgs;, score=0.742 total time=   2.6s\n",
      "[CV 5/5] END activation=logistic, alpha=0.0001, hidden_layer_sizes=(5, 2), max_iter=1000, solver=lbfgs;, score=0.959 total time= 1.1min\n",
      "[CV 1/5] END activation=logistic, alpha=0.0001, hidden_layer_sizes=(5,), max_iter=1000, solver=lbfgs;, score=0.954 total time=  44.2s\n",
      "[CV 2/5] END activation=logistic, alpha=0.0001, hidden_layer_sizes=(5,), max_iter=1000, solver=lbfgs;, score=0.961 total time= 1.3min\n",
      "[CV 3/5] END activation=logistic, alpha=0.0001, hidden_layer_sizes=(5,), max_iter=1000, solver=lbfgs;, score=0.742 total time=   2.4s\n",
      "[CV 4/5] END activation=logistic, alpha=0.0001, hidden_layer_sizes=(5,), max_iter=1000, solver=lbfgs;, score=0.742 total time=   2.2s\n",
      "[CV 5/5] END activation=logistic, alpha=0.0001, hidden_layer_sizes=(5,), max_iter=1000, solver=lbfgs;, score=0.743 total time=   2.3s\n"
     ]
    },
    {
     "data": {
      "text/plain": [
       "GridSearchCV(estimator=MLPClassifier(),\n",
       "             param_grid={'activation': ['identity', 'logistic'],\n",
       "                         'alpha': [10, 1, 0.1, 0.0001],\n",
       "                         'hidden_layer_sizes': [(5, 2), (5,)],\n",
       "                         'max_iter': [1000], 'solver': ['lbfgs']},\n",
       "             verbose=3)"
      ]
     },
     "execution_count": 18,
     "metadata": {},
     "output_type": "execute_result"
    }
   ],
   "source": [
    "#conduct a gridsearch over the following parameters \n",
    "#this also does 5 fold cross validation to generate \"best_score\"\n",
    "#which helps us decide on the optimal parameters\n",
    "parameters = {'solver': ['lbfgs'],\n",
    "              'activation': ['identity', 'logistic'],\n",
    "              'hidden_layer_sizes': [(5,2), (5,)],\n",
    "              'alpha': [10, 1, 0.1, 0.0001],\n",
    "              'max_iter': [1000]\n",
    "             }\n",
    "clf = GridSearchCV(MLPClassifier(), parameters,verbose=3)\n",
    "clf.fit(X_train,y_train)"
   ]
  },
  {
   "cell_type": "code",
   "execution_count": 20,
   "metadata": {},
   "outputs": [
    {
     "name": "stdout",
     "output_type": "stream",
     "text": [
      "Best score:    96.677\n",
      "Best params: {'activation': 'identity', 'alpha': 1, 'hidden_layer_sizes': (5, 2), 'max_iter': 1000, 'solver': 'lbfgs'}\n"
     ]
    }
   ],
   "source": [
    "print(f'Best score: {clf.best_score_*100:9.5}')\n",
    "print(f'Best params: {clf.best_params_}')"
   ]
  },
  {
   "cell_type": "code",
   "execution_count": 21,
   "metadata": {},
   "outputs": [
    {
     "name": "stdout",
     "output_type": "stream",
     "text": [
      "Best Fit Model accuracy with Lbfgs:    95.977\n"
     ]
    }
   ],
   "source": [
    "#predict on dev using the optimal model\n",
    "cv_mlp_pred = clf.predict(X_dev)\n",
    "print(f'Best Fit Model accuracy with Lbfgs: {accuracy_score(cv_mlp_pred,y_dev)*100:9.5}')"
   ]
  },
  {
   "cell_type": "markdown",
   "metadata": {},
   "source": [
    "# Second Model Iteration - Healthy vs. Pneumonia vs. COVID vs. TB"
   ]
  },
  {
   "cell_type": "markdown",
   "metadata": {},
   "source": [
    "### Data Pre-Processing"
   ]
  },
  {
   "cell_type": "code",
   "execution_count": 4,
   "metadata": {},
   "outputs": [],
   "source": [
    "#define constants needed for loading in data\n",
    "scale = 200\n",
    "label_filter = ['NORMAL','PNEUMONIA','COVID19','TURBERCULOSIS']\n",
    "subset = 'PROP' # either \"EQL\" or \"PROP\"\n",
    "random.seed(207)"
   ]
  },
  {
   "cell_type": "code",
   "execution_count": 5,
   "metadata": {},
   "outputs": [
    {
     "name": "stderr",
     "output_type": "stream",
     "text": [
      "100% |#########################################################################|\n",
      "100% |#########################################################################|\n",
      "100% |#########################################################################|\n",
      "100% |#########################################################################|\n"
     ]
    },
    {
     "name": "stdout",
     "output_type": "stream",
     "text": [
      "COVID19: 460\n",
      "PNEUMONIA: 3875\n",
      "NORMAL: 1341\n",
      "TURBERCULOSIS: 650\n",
      "Total: 6326\n",
      "(6326, 40000)\n",
      "(6326,)\n"
     ]
    }
   ],
   "source": [
    "#load in train data\n",
    "#0=Normal, 1=Pn, 2=COVID, 3=TB\n",
    "X_train_all, y_train_all = xray_data.load_train(scale,label_filter, subset=subset)\n",
    "print(X_train_all.shape)\n",
    "print(y_train_all.shape)"
   ]
  },
  {
   "cell_type": "code",
   "execution_count": 6,
   "metadata": {},
   "outputs": [
    {
     "name": "stdout",
     "output_type": "stream",
     "text": [
      "(5060, 40000)\n",
      "(1266, 40000)\n"
     ]
    }
   ],
   "source": [
    "#split the train dataset into train and dev 80-20 split\n",
    "X_mini_train_all, X_dev_all, y_mini_train_all, y_dev_all = train_test_split(X_train_all, y_train_all, test_size = .2, stratify = y_train_all)\n",
    "print(X_mini_train_all.shape)\n",
    "print(X_dev_all.shape)"
   ]
  },
  {
   "cell_type": "code",
   "execution_count": 21,
   "metadata": {},
   "outputs": [
    {
     "name": "stdout",
     "output_type": "stream",
     "text": [
      "Mini Train Value Counts:\n",
      "COVID19: 368\n",
      "PNEUMONIA: 3099\n",
      "NORMAL: 1073\n",
      "TURBERCULOSIS: 520\n"
     ]
    }
   ],
   "source": [
    "print(f'Train Set Value Counts:')\n",
    "print(f'COVID19: {len(y_mini_train_all[y_mini_train_all ==2])}')\n",
    "print(f'PNEUMONIA: {len(y_mini_train_all[y_mini_train_all ==1])}')\n",
    "print(f'NORMAL: {len(y_mini_train_all[y_mini_train_all ==0])}')\n",
    "print(f'TURBERCULOSIS: {len(y_mini_train_all[y_mini_train_all ==3])}')"
   ]
  },
  {
   "cell_type": "code",
   "execution_count": 22,
   "metadata": {},
   "outputs": [
    {
     "name": "stdout",
     "output_type": "stream",
     "text": [
      "Dev Set Value Counts:\n",
      "COVID19: 92\n",
      "PNEUMONIA: 776\n",
      "NORMAL: 268\n",
      "TURBERCULOSIS: 130\n"
     ]
    }
   ],
   "source": [
    "print(f'Dev Set Value Counts:')\n",
    "print(f'COVID19: {len(y_dev_all[y_dev_all==2])}')\n",
    "print(f'PNEUMONIA: {len(y_dev_all[y_dev_all ==1])}')\n",
    "print(f'NORMAL: {len(y_dev_all[y_dev_all ==0])}')\n",
    "print(f'TURBERCULOSIS: {len(y_dev_all[y_dev_all ==3])}')"
   ]
  },
  {
   "cell_type": "code",
   "execution_count": 24,
   "metadata": {},
   "outputs": [
    {
     "name": "stderr",
     "output_type": "stream",
     "text": [
      "100% |#########################################################################|\n",
      "100% |#########################################################################|\n",
      "100% |#########################################################################|\n",
      "100% |#########################################################################|\n"
     ]
    },
    {
     "name": "stdout",
     "output_type": "stream",
     "text": [
      "COVID19: 106\n",
      "PNEUMONIA: 390\n",
      "NORMAL: 234\n",
      "TURBERCULOSIS: 41\n",
      "Total: 771\n"
     ]
    }
   ],
   "source": [
    "X_test, y_test = xray_data.load_test(scale,label_filter,subset=subset)"
   ]
  },
  {
   "cell_type": "code",
   "execution_count": 25,
   "metadata": {},
   "outputs": [
    {
     "name": "stdout",
     "output_type": "stream",
     "text": [
      "Test Set Value Counts:\n",
      "COVID19: 106\n",
      "PNEUMONIA: 390\n",
      "NORMAL: 234\n",
      "TURBERCULOSIS: 41\n"
     ]
    }
   ],
   "source": [
    "print(f'Test Set Value Counts:')\n",
    "print(f'COVID19: {len(y_test[y_test==2])}')\n",
    "print(f'PNEUMONIA: {len(y_test[y_test ==1])}')\n",
    "print(f'NORMAL: {len(y_test[y_test ==0])}')\n",
    "print(f'TURBERCULOSIS: {len(y_test[y_test ==3])}')"
   ]
  },
  {
   "cell_type": "markdown",
   "metadata": {},
   "source": [
    "### Model 2A: Single Layer Perceptron"
   ]
  },
  {
   "cell_type": "code",
   "execution_count": 10,
   "metadata": {},
   "outputs": [
    {
     "name": "stdout",
     "output_type": "stream",
     "text": [
      "Single Layer Perceptron Model Accuracy:    94.471\n"
     ]
    }
   ],
   "source": [
    "per_mod = Perceptron(random_state = 46)\n",
    "per_mod.fit(X_train_all, y_train_all)\n",
    "per_pred = per_mod.predict(X_dev_all)\n",
    "print(f'Single Layer Perceptron Model Accuracy: {accuracy_score(per_pred,y_dev_all)*100:9.5}')"
   ]
  },
  {
   "cell_type": "markdown",
   "metadata": {},
   "source": [
    "### Model 2B: Default Multi Layer Perceptron"
   ]
  },
  {
   "cell_type": "code",
   "execution_count": 11,
   "metadata": {},
   "outputs": [
    {
     "name": "stdout",
     "output_type": "stream",
     "text": [
      "Multi Layer Perceptron Model Accuracy:    99.842\n"
     ]
    }
   ],
   "source": [
    "mlp_mod = MLPClassifier(solver='lbfgs', alpha=1e-5, hidden_layer_sizes=(5,2), max_iter = 1000, random_state=1)\n",
    "mlp_mod.fit(X_train_all, y_train_all)\n",
    "mlp_pred = mlp_mod.predict(X_dev_all)\n",
    "print(f'Multi Layer Perceptron Model Accuracy: {accuracy_score(mlp_pred,y_dev_all)*100:9.5}')"
   ]
  },
  {
   "cell_type": "markdown",
   "metadata": {},
   "source": [
    "### Model 2C: Cross Validated GridSearch MLP"
   ]
  },
  {
   "cell_type": "code",
   "execution_count": 24,
   "metadata": {},
   "outputs": [
    {
     "name": "stdout",
     "output_type": "stream",
     "text": [
      "Fitting 5 folds for each of 6 candidates, totalling 30 fits\n",
      "[CV 1/5] END activation=identity, alpha=10, hidden_layer_sizes=(5,), max_iter=5000, solver=lbfgs;, score=0.938 total time= 4.8min\n",
      "[CV 2/5] END activation=identity, alpha=10, hidden_layer_sizes=(5,), max_iter=5000, solver=lbfgs;, score=0.938 total time= 4.9min\n",
      "[CV 3/5] END activation=identity, alpha=10, hidden_layer_sizes=(5,), max_iter=5000, solver=lbfgs;, score=0.919 total time= 3.9min\n",
      "[CV 4/5] END activation=identity, alpha=10, hidden_layer_sizes=(5,), max_iter=5000, solver=lbfgs;, score=0.932 total time= 4.6min\n",
      "[CV 5/5] END activation=identity, alpha=10, hidden_layer_sizes=(5,), max_iter=5000, solver=lbfgs;, score=0.939 total time= 5.1min\n",
      "[CV 1/5] END activation=identity, alpha=1, hidden_layer_sizes=(5,), max_iter=5000, solver=lbfgs;, score=0.937 total time= 2.0min\n",
      "[CV 2/5] END activation=identity, alpha=1, hidden_layer_sizes=(5,), max_iter=5000, solver=lbfgs;, score=0.936 total time= 2.0min\n",
      "[CV 3/5] END activation=identity, alpha=1, hidden_layer_sizes=(5,), max_iter=5000, solver=lbfgs;, score=0.915 total time= 1.8min\n",
      "[CV 4/5] END activation=identity, alpha=1, hidden_layer_sizes=(5,), max_iter=5000, solver=lbfgs;, score=0.931 total time= 2.4min\n",
      "[CV 5/5] END activation=identity, alpha=1, hidden_layer_sizes=(5,), max_iter=5000, solver=lbfgs;, score=0.936 total time= 2.0min\n",
      "[CV 1/5] END activation=identity, alpha=0.1, hidden_layer_sizes=(5,), max_iter=5000, solver=lbfgs;, score=0.926 total time= 1.4min\n",
      "[CV 2/5] END activation=identity, alpha=0.1, hidden_layer_sizes=(5,), max_iter=5000, solver=lbfgs;, score=0.930 total time= 1.5min\n",
      "[CV 3/5] END activation=identity, alpha=0.1, hidden_layer_sizes=(5,), max_iter=5000, solver=lbfgs;, score=0.912 total time= 1.4min\n",
      "[CV 4/5] END activation=identity, alpha=0.1, hidden_layer_sizes=(5,), max_iter=5000, solver=lbfgs;, score=0.935 total time= 1.2min\n",
      "[CV 5/5] END activation=identity, alpha=0.1, hidden_layer_sizes=(5,), max_iter=5000, solver=lbfgs;, score=0.931 total time= 1.3min\n",
      "[CV 1/5] END activation=logistic, alpha=10, hidden_layer_sizes=(5,), max_iter=5000, solver=lbfgs;, score=0.934 total time= 9.8min\n",
      "[CV 2/5] END activation=logistic, alpha=10, hidden_layer_sizes=(5,), max_iter=5000, solver=lbfgs;, score=0.940 total time=10.0min\n",
      "[CV 3/5] END activation=logistic, alpha=10, hidden_layer_sizes=(5,), max_iter=5000, solver=lbfgs;, score=0.925 total time=68.8min\n",
      "[CV 4/5] END activation=logistic, alpha=10, hidden_layer_sizes=(5,), max_iter=5000, solver=lbfgs;, score=0.938 total time=50.9min\n",
      "[CV 5/5] END activation=logistic, alpha=10, hidden_layer_sizes=(5,), max_iter=5000, solver=lbfgs;, score=0.942 total time=14.0min\n",
      "[CV 1/5] END activation=logistic, alpha=1, hidden_layer_sizes=(5,), max_iter=5000, solver=lbfgs;, score=0.938 total time= 9.3min\n",
      "[CV 2/5] END activation=logistic, alpha=1, hidden_layer_sizes=(5,), max_iter=5000, solver=lbfgs;, score=0.933 total time=47.2min\n",
      "[CV 3/5] END activation=logistic, alpha=1, hidden_layer_sizes=(5,), max_iter=5000, solver=lbfgs;, score=0.917 total time= 6.2min\n",
      "[CV 4/5] END activation=logistic, alpha=1, hidden_layer_sizes=(5,), max_iter=5000, solver=lbfgs;, score=0.938 total time= 8.7min\n",
      "[CV 5/5] END activation=logistic, alpha=1, hidden_layer_sizes=(5,), max_iter=5000, solver=lbfgs;, score=0.939 total time=10.5min\n",
      "[CV 1/5] END activation=logistic, alpha=0.1, hidden_layer_sizes=(5,), max_iter=5000, solver=lbfgs;, score=0.927 total time= 4.3min\n",
      "[CV 2/5] END activation=logistic, alpha=0.1, hidden_layer_sizes=(5,), max_iter=5000, solver=lbfgs;, score=0.918 total time= 8.3min\n",
      "[CV 3/5] END activation=logistic, alpha=0.1, hidden_layer_sizes=(5,), max_iter=5000, solver=lbfgs;, score=0.889 total time=36.8min\n",
      "[CV 4/5] END activation=logistic, alpha=0.1, hidden_layer_sizes=(5,), max_iter=5000, solver=lbfgs;, score=0.929 total time= 6.9min\n",
      "[CV 5/5] END activation=logistic, alpha=0.1, hidden_layer_sizes=(5,), max_iter=5000, solver=lbfgs;, score=0.929 total time= 9.2min\n"
     ]
    },
    {
     "data": {
      "text/plain": [
       "GridSearchCV(estimator=MLPClassifier(),\n",
       "             param_grid={'activation': ['identity', 'logistic'],\n",
       "                         'alpha': [10, 1, 0.1], 'hidden_layer_sizes': [(5,)],\n",
       "                         'max_iter': [5000], 'solver': ['lbfgs']},\n",
       "             verbose=3)"
      ]
     },
     "execution_count": 24,
     "metadata": {},
     "output_type": "execute_result"
    }
   ],
   "source": [
    "parameters = {'solver': ['lbfgs'],\n",
    "              'activation': ['identity', 'logistic'],\n",
    "              'hidden_layer_sizes': [(5,)],\n",
    "              'alpha': [10, 1, 0.1],\n",
    "              'max_iter': [5000]\n",
    "             }\n",
    "clf = GridSearchCV(MLPClassifier(), parameters,verbose = 3)\n",
    "clf.fit(X_train_all,y_train_all)"
   ]
  },
  {
   "cell_type": "code",
   "execution_count": 25,
   "metadata": {},
   "outputs": [
    {
     "name": "stdout",
     "output_type": "stream",
     "text": [
      "Best score:    93.598\n",
      "Best params: {'activation': 'logistic', 'alpha': 10, 'hidden_layer_sizes': (5,), 'max_iter': 5000, 'solver': 'lbfgs'}\n"
     ]
    }
   ],
   "source": [
    "print(f'Best score: {clf.best_score_*100:9.5}')\n",
    "print(f'Best params: {clf.best_params_}')"
   ]
  },
  {
   "cell_type": "code",
   "execution_count": 29,
   "metadata": {},
   "outputs": [
    {
     "name": "stdout",
     "output_type": "stream",
     "text": [
      "Model Accuracy:     100.0\n"
     ]
    }
   ],
   "source": [
    "cv_mlp_pred = clf.predict(X_dev_all)\n",
    "print(f'Model Accuracy: {accuracy_score(cv_mlp_pred,y_dev_all)*100:9.5}')"
   ]
  },
  {
   "cell_type": "markdown",
   "metadata": {},
   "source": [
    "Best params: {'activation': 'logistic', 'alpha': 10, 'hidden_layer_sizes': (5,), 'max_iter': 5000, 'solver': 'lbfgs'}"
   ]
  },
  {
   "cell_type": "code",
   "execution_count": 7,
   "metadata": {},
   "outputs": [
    {
     "name": "stdout",
     "output_type": "stream",
     "text": [
      "Accuracy of best MLP on test data:    75.357\n"
     ]
    }
   ],
   "source": [
    "best_mlp = MLPClassifier(solver='lbfgs', alpha=10, hidden_layer_sizes=(5,), max_iter = 5000, \n",
    "                         activation = 'logistic',random_state=1)\n",
    "\n",
    "best_mlp.fit(X_train_all, y_train_all)\n",
    "best_mlp_pred = best_mlp.predict(X_test)\n",
    "print(f'Accuracy of best MLP on test data: {accuracy_score(best_mlp_pred,y_test)*100:9.5}')"
   ]
  }
 ],
 "metadata": {
  "kernelspec": {
   "display_name": "Python 3",
   "language": "python",
   "name": "python3"
  },
  "language_info": {
   "codemirror_mode": {
    "name": "ipython",
    "version": 3
   },
   "file_extension": ".py",
   "mimetype": "text/x-python",
   "name": "python",
   "nbconvert_exporter": "python",
   "pygments_lexer": "ipython3",
   "version": "3.8.3"
  }
 },
 "nbformat": 4,
 "nbformat_minor": 5
}
