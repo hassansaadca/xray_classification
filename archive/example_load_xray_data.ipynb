{
 "cells": [
  {
   "cell_type": "markdown",
   "metadata": {},
   "source": [
    "## Step 1: Library import"
   ]
  },
  {
   "cell_type": "code",
   "execution_count": 19,
   "metadata": {},
   "outputs": [],
   "source": [
    "import time\n",
    "import numpy as np\n",
    "import pandas as pd\n",
    "import matplotlib.pyplot as plt\n",
    "from matplotlib.ticker import MultipleLocator\n",
    "from sklearn.pipeline import Pipeline\n",
    "from sklearn.datasets import fetch_openml\n",
    "from sklearn.neighbors import KNeighborsClassifier\n",
    "from sklearn.metrics import confusion_matrix\n",
    "from sklearn.linear_model import LinearRegression\n",
    "from sklearn.naive_bayes import BernoulliNB\n",
    "from sklearn.naive_bayes import MultinomialNB\n",
    "from sklearn.naive_bayes import GaussianNB\n",
    "from sklearn.model_selection import GridSearchCV\n",
    "from sklearn.metrics import classification_report\n",
    "from sklearn.metrics import accuracy_score\n",
    "\n",
    "from sklearn.model_selection import train_test_split\n",
    "\n",
    "from sklearn import svm\n",
    "from sklearn.model_selection import GridSearchCV\n",
    "\n",
    "import xray_data #y data: 1 = NORMAL, 0 = PNEUMONIA\n"
   ]
  },
  {
   "cell_type": "markdown",
   "metadata": {},
   "source": [
    "## Step: Load and preprocess data\n",
    "Note: data is resized and preprocessed as read, as a memory optimization."
   ]
  },
  {
   "cell_type": "code",
   "execution_count": 2,
   "metadata": {},
   "outputs": [],
   "source": [
    "#Constants\n",
    "scale = 200\n",
    "label_filter = ['NORMAL','PNEUMONIA']"
   ]
  },
  {
   "cell_type": "code",
   "execution_count": 3,
   "metadata": {},
   "outputs": [
    {
     "name": "stdout",
     "output_type": "stream",
     "text": [
      "X_dev_orig, y_dev_orig shape: ((16, 40000), (16,))\n",
      "y_dev_orig shape for NORMAL cases: (8,)\n",
      "----\n"
     ]
    }
   ],
   "source": [
    "X_dev_orig, y_dev_orig = xray_data.load_dev(scale,label_filter)\n",
    "print(f'X_dev_orig, y_dev_orig shape: {X_dev_orig.shape, y_dev_orig.shape}')\n",
    "print(f'y_dev_orig shape for NORMAL cases: {y_dev_orig[y_dev_orig ==1].shape}')\n",
    "print('----')"
   ]
  },
  {
   "cell_type": "code",
   "execution_count": 4,
   "metadata": {},
   "outputs": [
    {
     "name": "stdout",
     "output_type": "stream",
     "text": [
      "X_test, y_test shape: ((460, 40000), (460,))\n",
      "y_test shape for NORMAL cases: (230,)\n",
      "----\n"
     ]
    }
   ],
   "source": [
    "# cut of for training samples of each class, only 230 normal rows\n",
    "test_cutoff = 230\n",
    "\n",
    "X_test, y_test = xray_data.load_test(scale,label_filter,test_cutoff)\n",
    "print(f'X_test, y_test shape: {X_test.shape, y_test.shape}')\n",
    "print(f'y_test shape for NORMAL cases: {y_test[y_test ==1].shape}')\n",
    "print('----')"
   ]
  },
  {
   "cell_type": "code",
   "execution_count": 5,
   "metadata": {},
   "outputs": [],
   "source": [
    "# cut of for training samples of each class, only 1300 normal rows\n",
    "train_cutoff = 1300\n",
    "\n",
    "X_train, y_train = xray_data.load_train(scale,label_filter,train_cutoff)"
   ]
  },
  {
   "cell_type": "code",
   "execution_count": 6,
   "metadata": {},
   "outputs": [
    {
     "name": "stdout",
     "output_type": "stream",
     "text": [
      "X_train, y_train shape: ((1300, 40000), (1300,))\n",
      "y_train shape for NORMAL cases: (650,)\n",
      "----\n",
      "X_dev, y_dev shape: ((1300, 40000), (1300,))\n",
      "y_dev shape for NORMAL cases: (650,)\n"
     ]
    }
   ],
   "source": [
    "# I'm not sure what the final stratify parameter is doing.  We'll want to revist when we do full cross validation\n",
    "\n",
    "X_train, X_dev, y_train, y_dev = train_test_split(X_train, y_train, test_size = .5, stratify = y_train )\n",
    "print(f'X_train, y_train shape: {X_train.shape, y_train.shape}')\n",
    "print(f'y_train shape for NORMAL cases: {y_train[y_train ==1].shape}')\n",
    "print('----')\n",
    "print(f'X_dev, y_dev shape: {X_dev.shape, y_dev.shape}')\n",
    "print(f'y_dev shape for NORMAL cases: {y_dev[y_dev ==1].shape}')"
   ]
  },
  {
   "cell_type": "markdown",
   "metadata": {},
   "source": [
    "## Single Model training"
   ]
  },
  {
   "cell_type": "code",
   "execution_count": 21,
   "metadata": {},
   "outputs": [
    {
     "name": "stdout",
     "output_type": "stream",
     "text": [
      "Single Model accuracy: 0.9576923076923077\n"
     ]
    }
   ],
   "source": [
    "\n",
    "base_model = svm.SVC()\n",
    "\n",
    "base_model.fit(X_train,y_train)\n",
    "y_pred = base_model.predict(X_dev)\n",
    "print(f'Single Model accuracy: {accuracy_score(y_pred,y_dev)}')"
   ]
  },
  {
   "cell_type": "markdown",
   "metadata": {},
   "source": [
    "## Gridsearch model"
   ]
  },
  {
   "cell_type": "code",
   "execution_count": 22,
   "metadata": {},
   "outputs": [
    {
     "ename": "AttributeError",
     "evalue": "'GridSearchCV' object has no attribute 'best_params_'",
     "output_type": "error",
     "traceback": [
      "\u001b[0;31m---------------------------------------------------------------------------\u001b[0m",
      "\u001b[0;31mAttributeError\u001b[0m                            Traceback (most recent call last)",
      "\u001b[0;32m/tmp/ipykernel_6849/78605998.py\u001b[0m in \u001b[0;36m<module>\u001b[0;34m\u001b[0m\n\u001b[1;32m      4\u001b[0m \u001b[0mCV_model\u001b[0m \u001b[0;34m=\u001b[0m \u001b[0mGridSearchCV\u001b[0m\u001b[0;34m(\u001b[0m\u001b[0msvc\u001b[0m\u001b[0;34m,\u001b[0m\u001b[0mparam_grid\u001b[0m\u001b[0;34m)\u001b[0m\u001b[0;34m\u001b[0m\u001b[0;34m\u001b[0m\u001b[0m\n\u001b[1;32m      5\u001b[0m \u001b[0;34m\u001b[0m\u001b[0m\n\u001b[0;32m----> 6\u001b[0;31m \u001b[0mprint\u001b[0m\u001b[0;34m(\u001b[0m\u001b[0;34mf'Best fit model parameters: {CV_model.best_params_}'\u001b[0m\u001b[0;34m)\u001b[0m\u001b[0;34m\u001b[0m\u001b[0;34m\u001b[0m\u001b[0m\n\u001b[0m\u001b[1;32m      7\u001b[0m \u001b[0mCV_model\u001b[0m\u001b[0;34m.\u001b[0m\u001b[0mfit\u001b[0m\u001b[0;34m(\u001b[0m\u001b[0mX_train\u001b[0m\u001b[0;34m,\u001b[0m\u001b[0my_train\u001b[0m\u001b[0;34m)\u001b[0m\u001b[0;34m\u001b[0m\u001b[0;34m\u001b[0m\u001b[0m\n\u001b[1;32m      8\u001b[0m \u001b[0my_pred\u001b[0m \u001b[0;34m=\u001b[0m \u001b[0mbase_model\u001b[0m\u001b[0;34m.\u001b[0m\u001b[0mpredict\u001b[0m\u001b[0;34m(\u001b[0m\u001b[0mX_dev\u001b[0m\u001b[0;34m)\u001b[0m\u001b[0;34m\u001b[0m\u001b[0;34m\u001b[0m\u001b[0m\n",
      "\u001b[0;31mAttributeError\u001b[0m: 'GridSearchCV' object has no attribute 'best_params_'"
     ]
    }
   ],
   "source": [
    "param_grid={'C':[0.1,.5,1,10,100],'gamma':[0.0001,0.001,0.1,1],'kernel':['rbf','poly','linear']}\n",
    "\n",
    "svc = svm.SVC()\n",
    "CV_model = GridSearchCV(svc,param_grid)\n",
    "\n",
    "print(f'Best fit model parameters: {CV_model.best_params_}')\n",
    "CV_model.fit(X_train,y_train)\n",
    "y_pred = base_model.predict(X_dev)\n",
    "print(f'CV Model accuracy: {accuracy_score(y_pred,y_dev)}')"
   ]
  }
 ],
 "metadata": {
  "kernelspec": {
   "display_name": "Python 3 (ipykernel)",
   "language": "python",
   "name": "python3"
  },
  "language_info": {
   "codemirror_mode": {
    "name": "ipython",
    "version": 3
   },
   "file_extension": ".py",
   "mimetype": "text/x-python",
   "name": "python",
   "nbconvert_exporter": "python",
   "pygments_lexer": "ipython3",
   "version": "3.9.7"
  }
 },
 "nbformat": 4,
 "nbformat_minor": 4
}
