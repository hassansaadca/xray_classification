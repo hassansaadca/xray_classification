{
 "cells": [
  {
   "cell_type": "markdown",
   "metadata": {},
   "source": [
    "## Step 1: Library import"
   ]
  },
  {
   "cell_type": "code",
   "execution_count": 19,
   "metadata": {},
   "outputs": [],
   "source": [
    "import time\n",
    "import numpy as np\n",
    "import pandas as pd\n",
    "import matplotlib.pyplot as plt\n",
    "from matplotlib.ticker import MultipleLocator\n",
    "from sklearn.pipeline import Pipeline\n",
    "from sklearn.datasets import fetch_openml\n",
    "from sklearn.neighbors import KNeighborsClassifier\n",
    "from sklearn.metrics import confusion_matrix\n",
    "from sklearn.linear_model import LinearRegression\n",
    "from sklearn.naive_bayes import BernoulliNB\n",
    "from sklearn.naive_bayes import MultinomialNB\n",
    "from sklearn.naive_bayes import GaussianNB\n",
    "from sklearn.model_selection import GridSearchCV\n",
    "from sklearn.metrics import classification_report\n",
    "from sklearn.metrics import accuracy_score\n",
    "from sklearn.metrics import f1_score\n",
    "\n",
    "from sklearn.model_selection import train_test_split\n",
    "\n",
    "from sklearn import svm\n",
    "from sklearn.model_selection import GridSearchCV\n",
    "\n",
    "import xray_data #y data: 1 = NORMAL, 0 = PNEUMONIA\n",
    "\n",
    "import random\n",
    "\n",
    "random.seed(207)"
   ]
  },
  {
   "cell_type": "markdown",
   "metadata": {},
   "source": [
    "## Step 2: Load and preprocess data\n",
    "Note: data is resized and preprocessed as it is read, as a memory optimization."
   ]
  },
  {
   "cell_type": "code",
   "execution_count": 2,
   "metadata": {},
   "outputs": [],
   "source": [
    "#Constants\n",
    "scale = 200\n",
    "label_filter = ['NORMAL','PNEUMONIA','COVID19','TURBERCULOSIS']\n",
    "subset = 'PROP' # either \"EQL\" or \"PROP\""
   ]
  },
  {
   "cell_type": "code",
   "execution_count": 3,
   "metadata": {},
   "outputs": [
    {
     "name": "stderr",
     "output_type": "stream",
     "text": [
      "100% (8 of 8) |##########################| Elapsed Time: 0:00:00 Time:  0:00:00\n",
      "100% (10 of 10) |########################| Elapsed Time: 0:00:00 Time:  0:00:00\n",
      "100% (8 of 8) |##########################| Elapsed Time: 0:00:00 Time:  0:00:00\n",
      "100% (12 of 12) |########################| Elapsed Time: 0:00:00 Time:  0:00:00\n"
     ]
    },
    {
     "name": "stdout",
     "output_type": "stream",
     "text": [
      "NORMAL: 8\n",
      "COVID19: 10\n",
      "PNEUMONIA: 8\n",
      "TURBERCULOSIS: 12\n",
      "Total: 38\n",
      "X_dev_orig, y_dev_orig shape: ((38, 40000), (38,))\n",
      "y_dev_orig shape for NORMAL cases: (8,)\n",
      "----\n"
     ]
    }
   ],
   "source": [
    "X_dev_orig, y_dev_orig = xray_data.load_val(scale,label_filter,subset=subset)\n",
    "print(f'X_dev_orig, y_dev_orig shape: {X_dev_orig.shape, y_dev_orig.shape}')\n",
    "print(f'y_dev_orig shape for NORMAL cases: {y_dev_orig[y_dev_orig ==1].shape}')\n",
    "print('----')"
   ]
  },
  {
   "cell_type": "code",
   "execution_count": 4,
   "metadata": {},
   "outputs": [
    {
     "name": "stderr",
     "output_type": "stream",
     "text": [
      "100% (234 of 234) |######################| Elapsed Time: 0:00:01 Time:  0:00:01\n",
      "100% (106 of 106) |######################| Elapsed Time: 0:00:02 Time:  0:00:02\n",
      "100% (390 of 390) |######################| Elapsed Time: 0:00:01 Time:  0:00:01\n",
      "100% (41 of 41) |########################| Elapsed Time: 0:00:00 Time:  0:00:00\n"
     ]
    },
    {
     "name": "stdout",
     "output_type": "stream",
     "text": [
      "NORMAL: 69\n",
      "COVID19: 31\n",
      "PNEUMONIA: 116\n",
      "TURBERCULOSIS: 12\n",
      "Total: 228\n",
      "X_test, y_test shape: ((228, 40000), (228,))\n",
      "y_test shape for NORMAL cases: (116,)\n",
      "----\n"
     ]
    }
   ],
   "source": [
    "# cut of for training samples of each class, only 230 normal rows\n",
    "test_cutoff = 230\n",
    "\n",
    "X_test, y_test = xray_data.load_test(scale,label_filter,test_cutoff,subset=subset)\n",
    "print(f'X_test, y_test shape: {X_test.shape, y_test.shape}')\n",
    "print(f'y_test shape for NORMAL cases: {y_test[y_test ==1].shape}')\n",
    "print('----')"
   ]
  },
  {
   "cell_type": "code",
   "execution_count": 5,
   "metadata": {},
   "outputs": [
    {
     "name": "stderr",
     "output_type": "stream",
     "text": [
      "100% (1341 of 1341) |####################| Elapsed Time: 0:00:38 Time:  0:00:38\n",
      "100% (460 of 460) |######################| Elapsed Time: 0:00:30 Time:  0:00:30\n",
      "100% (3875 of 3875) |####################| Elapsed Time: 0:00:41 Time:  0:00:41\n",
      "100% (650 of 650) |######################| Elapsed Time: 0:00:07 Time:  0:00:07\n"
     ]
    },
    {
     "name": "stdout",
     "output_type": "stream",
     "text": [
      "NORMAL: 1341\n",
      "COVID19: 460\n",
      "PNEUMONIA: 3875\n",
      "TURBERCULOSIS: 650\n",
      "Total: 6326\n"
     ]
    }
   ],
   "source": [
    "# cut of for training samples of each class, only 1300 normal rows\n",
    "\n",
    "X_train, y_train = xray_data.load_train(scale,label_filter,subset=subset)\n"
   ]
  },
  {
   "cell_type": "markdown",
   "metadata": {},
   "source": [
    "#### Step2a: Adjust all image sets by mean/std of train"
   ]
  },
  {
   "cell_type": "code",
   "execution_count": 6,
   "metadata": {},
   "outputs": [],
   "source": [
    "#(mean,std) = xray_data.find_mean_std(X_train)\n",
    "#print(mean,std)\n",
    "#print(X_train.shape)\n",
    "#adjusted_X_train = xray_data.normalize_images(X_train,mean,std)\n",
    "#print (f'adjusted train {adjusted_X_train.shape}')\n",
    "#adjusted_X_dev_org = xray_data.normalize_images(X_dev_orig,mean,std)\n",
    "#adjusted_X_test = xray_data.normalize_images(X_test,mean,std)\n",
    "# uncomment to use rescaled data\n",
    "# X_train = adjusted_X_train\n",
    "# X_dev_org = adjusted_X_dev_orig\n",
    "# X_test = adjusted_X_test"
   ]
  },
  {
   "cell_type": "markdown",
   "metadata": {},
   "source": [
    "### Step 2b: Split data into dev and train\n",
    "Original dev data set is too small for much validity\n"
   ]
  },
  {
   "cell_type": "code",
   "execution_count": 7,
   "metadata": {},
   "outputs": [
    {
     "name": "stdout",
     "output_type": "stream",
     "text": [
      "X_train, y_train shape: ((5060, 40000), (5060,))\n",
      "y_train shape for NORMAL cases: (3099,)\n",
      "----\n",
      "X_dev, y_dev shape: ((1266, 40000), (1266,))\n",
      "y_dev shape for NORMAL cases: (776,)\n"
     ]
    }
   ],
   "source": [
    "# I'm not sure what the final stratify parameter is doing.  We'll want to revist when we do full cross validation\n",
    "\n",
    "X_train, X_dev, y_train, y_dev = train_test_split(X_train, y_train, test_size = .2, stratify = y_train )\n",
    "print(f'X_train, y_train shape: {X_train.shape, y_train.shape}')\n",
    "print(f'y_train shape for NORMAL cases: {y_train[y_train ==1].shape}')\n",
    "print('----')\n",
    "print(f'X_dev, y_dev shape: {X_dev.shape, y_dev.shape}')\n",
    "print(f'y_dev shape for NORMAL cases: {y_dev[y_dev ==1].shape}')"
   ]
  },
  {
   "cell_type": "markdown",
   "metadata": {},
   "source": [
    "## Step 3: Single Model training\n",
    "\n",
    "Default values:  The default model for SVC is \n",
    " - C=1, \n",
    " - kernel='rbf', \n",
    " - gamma=1/(n_features * X.var()).  For a 200x200 rescale this results in gamma = .000025/X.var().  We may want to go with smaller gamma values.\n",
    "\n"
   ]
  },
  {
   "cell_type": "code",
   "execution_count": 8,
   "metadata": {},
   "outputs": [
    {
     "name": "stdout",
     "output_type": "stream",
     "text": [
      "Single Model accuracy:    95.577\n"
     ]
    }
   ],
   "source": [
    "\n",
    "base_model = svm.SVC()\n",
    "\n",
    "base_model.fit(X_train,y_train)\n",
    "y_pred = base_model.predict(X_dev)\n",
    "print(f'Single Model accuracy: {accuracy_score(y_pred,y_dev)*100:9.5}')"
   ]
  },
  {
   "cell_type": "markdown",
   "metadata": {},
   "source": [
    "## Step 4  CrossValidated Gridsearch models"
   ]
  },
  {
   "cell_type": "code",
   "execution_count": null,
   "metadata": {
    "scrolled": false
   },
   "outputs": [
    {
     "name": "stdout",
     "output_type": "stream",
     "text": [
      "Fitting 5 folds for each of 64 candidates, totalling 320 fits\n",
      "[CV 1/5] END ...C=0.1, gamma=0.0001, kernel=rbf;, score=0.833 total time= 3.8min\n",
      "[CV 2/5] END ...C=0.1, gamma=0.0001, kernel=rbf;, score=0.834 total time= 3.9min\n",
      "[CV 3/5] END ...C=0.1, gamma=0.0001, kernel=rbf;, score=0.838 total time= 4.0min\n",
      "[CV 4/5] END ...C=0.1, gamma=0.0001, kernel=rbf;, score=0.839 total time=12.8min\n",
      "[CV 5/5] END ...C=0.1, gamma=0.0001, kernel=rbf;, score=0.826 total time=17.7min\n",
      "[CV 1/5] END ..C=0.1, gamma=0.0001, kernel=poly;, score=0.858 total time=11.2min\n",
      "[CV 2/5] END ..C=0.1, gamma=0.0001, kernel=poly;, score=0.847 total time=18.4min\n",
      "[CV 3/5] END ..C=0.1, gamma=0.0001, kernel=poly;, score=0.856 total time=10.5min\n",
      "[CV 4/5] END ..C=0.1, gamma=0.0001, kernel=poly;, score=0.857 total time=10.7min\n",
      "[CV 5/5] END ..C=0.1, gamma=0.0001, kernel=poly;, score=0.842 total time=11.4min\n",
      "[CV 1/5] END C=0.1, gamma=0.0001, kernel=linear;, score=0.942 total time= 8.2min\n",
      "[CV 2/5] END C=0.1, gamma=0.0001, kernel=linear;, score=0.938 total time= 8.2min\n",
      "[CV 3/5] END C=0.1, gamma=0.0001, kernel=linear;, score=0.931 total time= 5.6min\n",
      "[CV 4/5] END C=0.1, gamma=0.0001, kernel=linear;, score=0.936 total time= 5.3min\n",
      "[CV 5/5] END C=0.1, gamma=0.0001, kernel=linear;, score=0.936 total time= 4.5min\n",
      "[CV 1/5] END C=0.1, gamma=0.0001, kernel=sigmoid;, score=0.616 total time=14.5min\n",
      "[CV 2/5] END C=0.1, gamma=0.0001, kernel=sigmoid;, score=0.624 total time=15.2min\n",
      "[CV 3/5] END C=0.1, gamma=0.0001, kernel=sigmoid;, score=0.625 total time=20.0min\n",
      "[CV 4/5] END C=0.1, gamma=0.0001, kernel=sigmoid;, score=0.616 total time=14.4min\n",
      "[CV 5/5] END C=0.1, gamma=0.0001, kernel=sigmoid;, score=0.620 total time=14.6min\n",
      "[CV 1/5] END ....C=0.1, gamma=0.001, kernel=rbf;, score=0.910 total time=15.3min\n",
      "[CV 2/5] END ....C=0.1, gamma=0.001, kernel=rbf;, score=0.901 total time=23.2min\n",
      "[CV 3/5] END ....C=0.1, gamma=0.001, kernel=rbf;, score=0.898 total time=13.0min\n",
      "[CV 4/5] END ....C=0.1, gamma=0.001, kernel=rbf;, score=0.912 total time=13.3min\n",
      "[CV 5/5] END ....C=0.1, gamma=0.001, kernel=rbf;, score=0.905 total time=13.8min\n",
      "[CV 1/5] END ...C=0.1, gamma=0.001, kernel=poly;, score=0.941 total time= 3.9min\n",
      "[CV 2/5] END ...C=0.1, gamma=0.001, kernel=poly;, score=0.943 total time= 4.4min\n",
      "[CV 3/5] END ...C=0.1, gamma=0.001, kernel=poly;, score=0.933 total time= 3.7min\n",
      "[CV 4/5] END ...C=0.1, gamma=0.001, kernel=poly;, score=0.950 total time= 4.1min\n",
      "[CV 5/5] END ...C=0.1, gamma=0.001, kernel=poly;, score=0.943 total time= 4.1min\n",
      "[CV 1/5] END .C=0.1, gamma=0.001, kernel=linear;, score=0.942 total time= 3.9min\n",
      "[CV 2/5] END .C=0.1, gamma=0.001, kernel=linear;, score=0.938 total time= 3.0min\n",
      "[CV 3/5] END .C=0.1, gamma=0.001, kernel=linear;, score=0.931 total time= 2.9min\n",
      "[CV 4/5] END .C=0.1, gamma=0.001, kernel=linear;, score=0.936 total time= 2.9min\n",
      "[CV 5/5] END .C=0.1, gamma=0.001, kernel=linear;, score=0.936 total time= 3.3min\n",
      "[CV 1/5] END C=0.1, gamma=0.001, kernel=sigmoid;, score=0.613 total time= 8.8min\n",
      "[CV 2/5] END C=0.1, gamma=0.001, kernel=sigmoid;, score=0.613 total time= 7.8min\n",
      "[CV 3/5] END C=0.1, gamma=0.001, kernel=sigmoid;, score=0.613 total time=12.5min\n",
      "[CV 4/5] END C=0.1, gamma=0.001, kernel=sigmoid;, score=0.613 total time= 4.5min\n",
      "[CV 5/5] END C=0.1, gamma=0.001, kernel=sigmoid;, score=0.612 total time= 3.2min\n",
      "[CV 1/5] END ......C=0.1, gamma=0.1, kernel=rbf;, score=0.613 total time= 8.1min\n",
      "[CV 2/5] END ......C=0.1, gamma=0.1, kernel=rbf;, score=0.613 total time= 8.0min\n",
      "[CV 3/5] END ......C=0.1, gamma=0.1, kernel=rbf;, score=0.613 total time= 8.0min\n",
      "[CV 4/5] END ......C=0.1, gamma=0.1, kernel=rbf;, score=0.613 total time= 8.0min\n",
      "[CV 5/5] END ......C=0.1, gamma=0.1, kernel=rbf;, score=0.612 total time= 8.0min\n",
      "[CV 1/5] END .....C=0.1, gamma=0.1, kernel=poly;, score=0.938 total time=  56.4s\n",
      "[CV 2/5] END .....C=0.1, gamma=0.1, kernel=poly;, score=0.942 total time=  56.4s\n",
      "[CV 3/5] END .....C=0.1, gamma=0.1, kernel=poly;, score=0.932 total time=  56.9s\n",
      "[CV 4/5] END .....C=0.1, gamma=0.1, kernel=poly;, score=0.951 total time=  56.2s\n",
      "[CV 5/5] END .....C=0.1, gamma=0.1, kernel=poly;, score=0.943 total time=  57.0s\n",
      "[CV 1/5] END ...C=0.1, gamma=0.1, kernel=linear;, score=0.942 total time= 1.0min\n",
      "[CV 2/5] END ...C=0.1, gamma=0.1, kernel=linear;, score=0.938 total time= 1.1min\n",
      "[CV 3/5] END ...C=0.1, gamma=0.1, kernel=linear;, score=0.931 total time= 1.0min\n",
      "[CV 4/5] END ...C=0.1, gamma=0.1, kernel=linear;, score=0.936 total time= 1.1min\n",
      "[CV 5/5] END ...C=0.1, gamma=0.1, kernel=linear;, score=0.936 total time= 1.1min\n",
      "[CV 1/5] END ..C=0.1, gamma=0.1, kernel=sigmoid;, score=0.613 total time= 2.9min\n",
      "[CV 2/5] END ..C=0.1, gamma=0.1, kernel=sigmoid;, score=0.613 total time= 2.9min\n",
      "[CV 3/5] END ..C=0.1, gamma=0.1, kernel=sigmoid;, score=0.613 total time= 2.9min\n",
      "[CV 4/5] END ..C=0.1, gamma=0.1, kernel=sigmoid;, score=0.613 total time= 2.9min\n",
      "[CV 5/5] END ..C=0.1, gamma=0.1, kernel=sigmoid;, score=0.612 total time= 2.9min\n",
      "[CV 1/5] END ........C=0.1, gamma=1, kernel=rbf;, score=0.613 total time= 8.0min\n",
      "[CV 2/5] END ........C=0.1, gamma=1, kernel=rbf;, score=0.613 total time= 8.0min\n",
      "[CV 3/5] END ........C=0.1, gamma=1, kernel=rbf;, score=0.613 total time= 8.0min\n",
      "[CV 4/5] END ........C=0.1, gamma=1, kernel=rbf;, score=0.613 total time= 8.0min\n",
      "[CV 5/5] END ........C=0.1, gamma=1, kernel=rbf;, score=0.612 total time= 8.0min\n",
      "[CV 1/5] END .......C=0.1, gamma=1, kernel=poly;, score=0.938 total time=  56.4s\n",
      "[CV 2/5] END .......C=0.1, gamma=1, kernel=poly;, score=0.942 total time=  56.4s\n",
      "[CV 3/5] END .......C=0.1, gamma=1, kernel=poly;, score=0.932 total time=  56.2s\n",
      "[CV 4/5] END .......C=0.1, gamma=1, kernel=poly;, score=0.951 total time=  56.5s\n",
      "[CV 5/5] END .......C=0.1, gamma=1, kernel=poly;, score=0.943 total time=  56.8s\n",
      "[CV 1/5] END .....C=0.1, gamma=1, kernel=linear;, score=0.942 total time= 1.0min\n",
      "[CV 2/5] END .....C=0.1, gamma=1, kernel=linear;, score=0.938 total time= 1.0min\n",
      "[CV 3/5] END .....C=0.1, gamma=1, kernel=linear;, score=0.931 total time= 1.0min\n",
      "[CV 4/5] END .....C=0.1, gamma=1, kernel=linear;, score=0.936 total time= 1.0min\n",
      "[CV 5/5] END .....C=0.1, gamma=1, kernel=linear;, score=0.936 total time= 1.1min\n",
      "[CV 1/5] END ....C=0.1, gamma=1, kernel=sigmoid;, score=0.613 total time= 2.9min\n",
      "[CV 2/5] END ....C=0.1, gamma=1, kernel=sigmoid;, score=0.613 total time= 2.9min\n",
      "[CV 3/5] END ....C=0.1, gamma=1, kernel=sigmoid;, score=0.613 total time= 2.9min\n",
      "[CV 4/5] END ....C=0.1, gamma=1, kernel=sigmoid;, score=0.613 total time= 2.9min\n",
      "[CV 5/5] END ....C=0.1, gamma=1, kernel=sigmoid;, score=0.612 total time= 2.9min\n",
      "[CV 1/5] END .....C=1, gamma=0.0001, kernel=rbf;, score=0.929 total time= 2.1min\n",
      "[CV 2/5] END .....C=1, gamma=0.0001, kernel=rbf;, score=0.925 total time= 2.1min\n",
      "[CV 3/5] END .....C=1, gamma=0.0001, kernel=rbf;, score=0.920 total time= 2.1min\n",
      "[CV 4/5] END .....C=1, gamma=0.0001, kernel=rbf;, score=0.931 total time= 2.1min\n",
      "[CV 5/5] END .....C=1, gamma=0.0001, kernel=rbf;, score=0.927 total time= 2.1min\n",
      "[CV 1/5] END ....C=1, gamma=0.0001, kernel=poly;, score=0.927 total time= 1.4min\n",
      "[CV 2/5] END ....C=1, gamma=0.0001, kernel=poly;, score=0.918 total time= 1.4min\n",
      "[CV 3/5] END ....C=1, gamma=0.0001, kernel=poly;, score=0.910 total time= 1.4min\n",
      "[CV 4/5] END ....C=1, gamma=0.0001, kernel=poly;, score=0.924 total time= 1.4min\n",
      "[CV 5/5] END ....C=1, gamma=0.0001, kernel=poly;, score=0.910 total time= 1.4min\n",
      "[CV 1/5] END ..C=1, gamma=0.0001, kernel=linear;, score=0.942 total time= 1.0min\n",
      "[CV 2/5] END ..C=1, gamma=0.0001, kernel=linear;, score=0.938 total time= 1.1min\n",
      "[CV 3/5] END ..C=1, gamma=0.0001, kernel=linear;, score=0.931 total time= 1.0min\n",
      "[CV 4/5] END ..C=1, gamma=0.0001, kernel=linear;, score=0.936 total time= 1.1min\n",
      "[CV 5/5] END ..C=1, gamma=0.0001, kernel=linear;, score=0.936 total time= 1.0min\n",
      "[CV 1/5] END .C=1, gamma=0.0001, kernel=sigmoid;, score=0.580 total time= 2.1min\n",
      "[CV 2/5] END .C=1, gamma=0.0001, kernel=sigmoid;, score=0.625 total time= 2.1min\n",
      "[CV 3/5] END .C=1, gamma=0.0001, kernel=sigmoid;, score=0.637 total time= 2.1min\n",
      "[CV 4/5] END .C=1, gamma=0.0001, kernel=sigmoid;, score=0.625 total time= 2.1min\n",
      "[CV 5/5] END .C=1, gamma=0.0001, kernel=sigmoid;, score=0.617 total time= 2.1min\n",
      "[CV 1/5] END ......C=1, gamma=0.001, kernel=rbf;, score=0.962 total time= 2.0min\n"
     ]
    },
    {
     "name": "stdout",
     "output_type": "stream",
     "text": [
      "[CV 2/5] END ......C=1, gamma=0.001, kernel=rbf;, score=0.951 total time= 2.1min\n",
      "[CV 3/5] END ......C=1, gamma=0.001, kernel=rbf;, score=0.943 total time= 2.1min\n",
      "[CV 4/5] END ......C=1, gamma=0.001, kernel=rbf;, score=0.956 total time= 2.1min\n",
      "[CV 5/5] END ......C=1, gamma=0.001, kernel=rbf;, score=0.958 total time= 2.1min\n",
      "[CV 1/5] END .....C=1, gamma=0.001, kernel=poly;, score=0.938 total time=  56.2s\n",
      "[CV 2/5] END .....C=1, gamma=0.001, kernel=poly;, score=0.942 total time=  56.5s\n",
      "[CV 3/5] END .....C=1, gamma=0.001, kernel=poly;, score=0.932 total time=  56.4s\n",
      "[CV 4/5] END .....C=1, gamma=0.001, kernel=poly;, score=0.951 total time=  56.7s\n",
      "[CV 5/5] END .....C=1, gamma=0.001, kernel=poly;, score=0.943 total time=  56.8s\n",
      "[CV 1/5] END ...C=1, gamma=0.001, kernel=linear;, score=0.942 total time= 1.0min\n",
      "[CV 2/5] END ...C=1, gamma=0.001, kernel=linear;, score=0.938 total time= 1.1min\n",
      "[CV 3/5] END ...C=1, gamma=0.001, kernel=linear;, score=0.931 total time= 1.0min\n",
      "[CV 4/5] END ...C=1, gamma=0.001, kernel=linear;, score=0.936 total time= 1.0min\n",
      "[CV 5/5] END ...C=1, gamma=0.001, kernel=linear;, score=0.936 total time= 1.1min\n",
      "[CV 1/5] END ..C=1, gamma=0.001, kernel=sigmoid;, score=0.613 total time= 3.2min\n",
      "[CV 2/5] END ..C=1, gamma=0.001, kernel=sigmoid;, score=0.613 total time= 3.3min\n",
      "[CV 3/5] END ..C=1, gamma=0.001, kernel=sigmoid;, score=0.613 total time= 3.3min\n",
      "[CV 4/5] END ..C=1, gamma=0.001, kernel=sigmoid;, score=0.615 total time= 3.2min\n",
      "[CV 5/5] END ..C=1, gamma=0.001, kernel=sigmoid;, score=0.613 total time= 3.1min\n",
      "[CV 1/5] END ........C=1, gamma=0.1, kernel=rbf;, score=0.616 total time= 8.2min\n",
      "[CV 2/5] END ........C=1, gamma=0.1, kernel=rbf;, score=0.617 total time= 8.2min\n",
      "[CV 3/5] END ........C=1, gamma=0.1, kernel=rbf;, score=0.621 total time= 8.1min\n",
      "[CV 4/5] END ........C=1, gamma=0.1, kernel=rbf;, score=0.617 total time= 8.2min\n",
      "[CV 5/5] END ........C=1, gamma=0.1, kernel=rbf;, score=0.620 total time= 8.4min\n",
      "[CV 1/5] END .......C=1, gamma=0.1, kernel=poly;, score=0.938 total time=  56.3s\n",
      "[CV 2/5] END .......C=1, gamma=0.1, kernel=poly;, score=0.942 total time=  56.6s\n",
      "[CV 3/5] END .......C=1, gamma=0.1, kernel=poly;, score=0.932 total time=  57.3s\n",
      "[CV 4/5] END .......C=1, gamma=0.1, kernel=poly;, score=0.951 total time=  56.3s\n",
      "[CV 5/5] END .......C=1, gamma=0.1, kernel=poly;, score=0.943 total time=  56.8s\n",
      "[CV 1/5] END .....C=1, gamma=0.1, kernel=linear;, score=0.942 total time= 1.0min\n",
      "[CV 2/5] END .....C=1, gamma=0.1, kernel=linear;, score=0.938 total time= 1.1min\n",
      "[CV 3/5] END .....C=1, gamma=0.1, kernel=linear;, score=0.931 total time= 1.0min\n",
      "[CV 4/5] END .....C=1, gamma=0.1, kernel=linear;, score=0.936 total time= 1.0min\n",
      "[CV 5/5] END .....C=1, gamma=0.1, kernel=linear;, score=0.936 total time= 1.0min\n",
      "[CV 1/5] END ....C=1, gamma=0.1, kernel=sigmoid;, score=0.613 total time= 2.9min\n",
      "[CV 2/5] END ....C=1, gamma=0.1, kernel=sigmoid;, score=0.613 total time= 2.9min\n",
      "[CV 3/5] END ....C=1, gamma=0.1, kernel=sigmoid;, score=0.613 total time= 2.9min\n",
      "[CV 4/5] END ....C=1, gamma=0.1, kernel=sigmoid;, score=0.613 total time= 2.9min\n",
      "[CV 5/5] END ....C=1, gamma=0.1, kernel=sigmoid;, score=0.612 total time= 2.9min\n",
      "[CV 1/5] END ..........C=1, gamma=1, kernel=rbf;, score=0.614 total time= 8.2min\n",
      "[CV 2/5] END ..........C=1, gamma=1, kernel=rbf;, score=0.614 total time= 8.2min\n",
      "[CV 3/5] END ..........C=1, gamma=1, kernel=rbf;, score=0.615 total time= 8.1min\n",
      "[CV 4/5] END ..........C=1, gamma=1, kernel=rbf;, score=0.614 total time= 8.2min\n",
      "[CV 5/5] END ..........C=1, gamma=1, kernel=rbf;, score=0.615 total time= 8.2min\n",
      "[CV 1/5] END .........C=1, gamma=1, kernel=poly;, score=0.938 total time=  56.6s\n",
      "[CV 2/5] END .........C=1, gamma=1, kernel=poly;, score=0.942 total time=  56.2s\n",
      "[CV 3/5] END .........C=1, gamma=1, kernel=poly;, score=0.932 total time=  56.5s\n",
      "[CV 4/5] END .........C=1, gamma=1, kernel=poly;, score=0.951 total time=  56.4s\n",
      "[CV 5/5] END .........C=1, gamma=1, kernel=poly;, score=0.943 total time=  56.7s\n",
      "[CV 1/5] END .......C=1, gamma=1, kernel=linear;, score=0.942 total time= 1.0min\n",
      "[CV 2/5] END .......C=1, gamma=1, kernel=linear;, score=0.938 total time= 1.1min\n",
      "[CV 3/5] END .......C=1, gamma=1, kernel=linear;, score=0.931 total time= 1.0min\n",
      "[CV 4/5] END .......C=1, gamma=1, kernel=linear;, score=0.936 total time= 1.1min\n",
      "[CV 5/5] END .......C=1, gamma=1, kernel=linear;, score=0.936 total time= 1.0min\n",
      "[CV 1/5] END ......C=1, gamma=1, kernel=sigmoid;, score=0.613 total time= 2.9min\n",
      "[CV 2/5] END ......C=1, gamma=1, kernel=sigmoid;, score=0.613 total time= 2.9min\n",
      "[CV 3/5] END ......C=1, gamma=1, kernel=sigmoid;, score=0.613 total time= 2.9min\n",
      "[CV 4/5] END ......C=1, gamma=1, kernel=sigmoid;, score=0.613 total time= 3.0min\n",
      "[CV 5/5] END ......C=1, gamma=1, kernel=sigmoid;, score=0.612 total time= 2.9min\n",
      "[CV 1/5] END ....C=10, gamma=0.0001, kernel=rbf;, score=0.951 total time= 1.4min\n",
      "[CV 2/5] END ....C=10, gamma=0.0001, kernel=rbf;, score=0.952 total time= 1.4min\n",
      "[CV 3/5] END ....C=10, gamma=0.0001, kernel=rbf;, score=0.935 total time= 1.4min\n",
      "[CV 4/5] END ....C=10, gamma=0.0001, kernel=rbf;, score=0.951 total time= 1.3min\n",
      "[CV 5/5] END ....C=10, gamma=0.0001, kernel=rbf;, score=0.953 total time= 1.3min\n",
      "[CV 1/5] END ...C=10, gamma=0.0001, kernel=poly;, score=0.944 total time= 1.0min\n",
      "[CV 2/5] END ...C=10, gamma=0.0001, kernel=poly;, score=0.944 total time= 1.0min\n",
      "[CV 3/5] END ...C=10, gamma=0.0001, kernel=poly;, score=0.929 total time= 1.0min\n",
      "[CV 4/5] END ...C=10, gamma=0.0001, kernel=poly;, score=0.948 total time= 1.0min\n",
      "[CV 5/5] END ...C=10, gamma=0.0001, kernel=poly;, score=0.940 total time=  59.7s\n",
      "[CV 1/5] END .C=10, gamma=0.0001, kernel=linear;, score=0.942 total time= 1.0min\n",
      "[CV 2/5] END .C=10, gamma=0.0001, kernel=linear;, score=0.938 total time= 1.1min\n",
      "[CV 3/5] END .C=10, gamma=0.0001, kernel=linear;, score=0.931 total time= 1.1min\n",
      "[CV 4/5] END .C=10, gamma=0.0001, kernel=linear;, score=0.936 total time= 1.1min\n",
      "[CV 5/5] END .C=10, gamma=0.0001, kernel=linear;, score=0.936 total time= 1.0min\n",
      "[CV 1/5] END C=10, gamma=0.0001, kernel=sigmoid;, score=0.544 total time= 1.7min\n",
      "[CV 2/5] END C=10, gamma=0.0001, kernel=sigmoid;, score=0.576 total time= 1.7min\n",
      "[CV 3/5] END C=10, gamma=0.0001, kernel=sigmoid;, score=0.595 total time= 1.7min\n",
      "[CV 4/5] END C=10, gamma=0.0001, kernel=sigmoid;, score=0.586 total time= 1.7min\n",
      "[CV 5/5] END C=10, gamma=0.0001, kernel=sigmoid;, score=0.587 total time= 1.7min\n",
      "[CV 1/5] END .....C=10, gamma=0.001, kernel=rbf;, score=0.960 total time= 2.1min\n",
      "[CV 2/5] END .....C=10, gamma=0.001, kernel=rbf;, score=0.959 total time= 2.2min\n",
      "[CV 3/5] END .....C=10, gamma=0.001, kernel=rbf;, score=0.949 total time= 2.2min\n",
      "[CV 4/5] END .....C=10, gamma=0.001, kernel=rbf;, score=0.958 total time= 2.2min\n",
      "[CV 5/5] END .....C=10, gamma=0.001, kernel=rbf;, score=0.952 total time= 2.2min\n",
      "[CV 1/5] END ....C=10, gamma=0.001, kernel=poly;, score=0.938 total time=  56.0s\n",
      "[CV 2/5] END ....C=10, gamma=0.001, kernel=poly;, score=0.942 total time=  56.3s\n",
      "[CV 3/5] END ....C=10, gamma=0.001, kernel=poly;, score=0.932 total time=  56.4s\n",
      "[CV 4/5] END ....C=10, gamma=0.001, kernel=poly;, score=0.951 total time=  56.5s\n",
      "[CV 5/5] END ....C=10, gamma=0.001, kernel=poly;, score=0.943 total time=  56.4s\n",
      "[CV 1/5] END ..C=10, gamma=0.001, kernel=linear;, score=0.942 total time= 1.0min\n",
      "[CV 2/5] END ..C=10, gamma=0.001, kernel=linear;, score=0.938 total time= 1.0min\n",
      "[CV 3/5] END ..C=10, gamma=0.001, kernel=linear;, score=0.931 total time= 1.0min\n",
      "[CV 4/5] END ..C=10, gamma=0.001, kernel=linear;, score=0.936 total time= 1.0min\n",
      "[CV 5/5] END ..C=10, gamma=0.001, kernel=linear;, score=0.936 total time= 1.0min\n",
      "[CV 1/5] END .C=10, gamma=0.001, kernel=sigmoid;, score=0.612 total time= 3.1min\n",
      "[CV 2/5] END .C=10, gamma=0.001, kernel=sigmoid;, score=0.610 total time= 3.1min\n",
      "[CV 3/5] END .C=10, gamma=0.001, kernel=sigmoid;, score=0.610 total time= 3.1min\n",
      "[CV 4/5] END .C=10, gamma=0.001, kernel=sigmoid;, score=0.613 total time= 3.1min\n",
      "[CV 5/5] END .C=10, gamma=0.001, kernel=sigmoid;, score=0.610 total time= 3.2min\n",
      "[CV 1/5] END .......C=10, gamma=0.1, kernel=rbf;, score=0.616 total time= 8.6min\n",
      "[CV 2/5] END .......C=10, gamma=0.1, kernel=rbf;, score=0.617 total time= 8.5min\n",
      "[CV 3/5] END .......C=10, gamma=0.1, kernel=rbf;, score=0.621 total time= 8.4min\n"
     ]
    },
    {
     "name": "stdout",
     "output_type": "stream",
     "text": [
      "[CV 4/5] END .......C=10, gamma=0.1, kernel=rbf;, score=0.618 total time= 8.4min\n",
      "[CV 5/5] END .......C=10, gamma=0.1, kernel=rbf;, score=0.620 total time= 8.4min\n",
      "[CV 1/5] END ......C=10, gamma=0.1, kernel=poly;, score=0.938 total time=  55.9s\n",
      "[CV 2/5] END ......C=10, gamma=0.1, kernel=poly;, score=0.942 total time=  56.4s\n",
      "[CV 3/5] END ......C=10, gamma=0.1, kernel=poly;, score=0.932 total time=  56.3s\n",
      "[CV 4/5] END ......C=10, gamma=0.1, kernel=poly;, score=0.951 total time=  56.2s\n",
      "[CV 5/5] END ......C=10, gamma=0.1, kernel=poly;, score=0.943 total time=  56.6s\n",
      "[CV 1/5] END ....C=10, gamma=0.1, kernel=linear;, score=0.942 total time= 1.0min\n",
      "[CV 2/5] END ....C=10, gamma=0.1, kernel=linear;, score=0.938 total time= 1.0min\n",
      "[CV 3/5] END ....C=10, gamma=0.1, kernel=linear;, score=0.931 total time= 1.0min\n",
      "[CV 4/5] END ....C=10, gamma=0.1, kernel=linear;, score=0.936 total time= 1.0min\n",
      "[CV 5/5] END ....C=10, gamma=0.1, kernel=linear;, score=0.936 total time= 1.1min\n",
      "[CV 1/5] END ...C=10, gamma=0.1, kernel=sigmoid;, score=0.613 total time= 2.9min\n",
      "[CV 2/5] END ...C=10, gamma=0.1, kernel=sigmoid;, score=0.613 total time= 2.9min\n",
      "[CV 3/5] END ...C=10, gamma=0.1, kernel=sigmoid;, score=0.613 total time= 2.9min\n",
      "[CV 4/5] END ...C=10, gamma=0.1, kernel=sigmoid;, score=0.613 total time= 2.9min\n",
      "[CV 5/5] END ...C=10, gamma=0.1, kernel=sigmoid;, score=0.612 total time= 2.9min\n",
      "[CV 1/5] END .........C=10, gamma=1, kernel=rbf;, score=0.614 total time= 8.4min\n",
      "[CV 2/5] END .........C=10, gamma=1, kernel=rbf;, score=0.614 total time= 8.4min\n",
      "[CV 3/5] END .........C=10, gamma=1, kernel=rbf;, score=0.615 total time= 8.5min\n",
      "[CV 4/5] END .........C=10, gamma=1, kernel=rbf;, score=0.614 total time= 8.4min\n",
      "[CV 5/5] END .........C=10, gamma=1, kernel=rbf;, score=0.615 total time= 8.4min\n",
      "[CV 1/5] END ........C=10, gamma=1, kernel=poly;, score=0.938 total time=  56.2s\n",
      "[CV 2/5] END ........C=10, gamma=1, kernel=poly;, score=0.942 total time=  56.1s\n",
      "[CV 3/5] END ........C=10, gamma=1, kernel=poly;, score=0.932 total time=  56.3s\n",
      "[CV 4/5] END ........C=10, gamma=1, kernel=poly;, score=0.951 total time=  56.3s\n",
      "[CV 5/5] END ........C=10, gamma=1, kernel=poly;, score=0.943 total time=  56.5s\n",
      "[CV 1/5] END ......C=10, gamma=1, kernel=linear;, score=0.942 total time= 1.0min\n",
      "[CV 2/5] END ......C=10, gamma=1, kernel=linear;, score=0.938 total time= 1.0min\n",
      "[CV 3/5] END ......C=10, gamma=1, kernel=linear;, score=0.931 total time= 1.0min\n",
      "[CV 4/5] END ......C=10, gamma=1, kernel=linear;, score=0.936 total time= 1.0min\n",
      "[CV 5/5] END ......C=10, gamma=1, kernel=linear;, score=0.936 total time= 1.1min\n",
      "[CV 1/5] END .....C=10, gamma=1, kernel=sigmoid;, score=0.613 total time= 2.9min\n",
      "[CV 2/5] END .....C=10, gamma=1, kernel=sigmoid;, score=0.613 total time= 2.9min\n",
      "[CV 3/5] END .....C=10, gamma=1, kernel=sigmoid;, score=0.613 total time= 2.9min\n",
      "[CV 4/5] END .....C=10, gamma=1, kernel=sigmoid;, score=0.613 total time= 2.9min\n",
      "[CV 5/5] END .....C=10, gamma=1, kernel=sigmoid;, score=0.612 total time= 2.9min\n",
      "[CV 1/5] END ...C=100, gamma=0.0001, kernel=rbf;, score=0.949 total time= 1.3min\n",
      "[CV 2/5] END ...C=100, gamma=0.0001, kernel=rbf;, score=0.956 total time= 1.4min\n",
      "[CV 3/5] END ...C=100, gamma=0.0001, kernel=rbf;, score=0.936 total time= 1.4min\n",
      "[CV 4/5] END ...C=100, gamma=0.0001, kernel=rbf;, score=0.954 total time= 1.4min\n",
      "[CV 5/5] END ...C=100, gamma=0.0001, kernel=rbf;, score=0.955 total time= 1.4min\n",
      "[CV 1/5] END ..C=100, gamma=0.0001, kernel=poly;, score=0.940 total time=  57.4s\n",
      "[CV 2/5] END ..C=100, gamma=0.0001, kernel=poly;, score=0.943 total time=  57.8s\n",
      "[CV 3/5] END ..C=100, gamma=0.0001, kernel=poly;, score=0.933 total time=  57.6s\n",
      "[CV 4/5] END ..C=100, gamma=0.0001, kernel=poly;, score=0.950 total time=  58.0s\n",
      "[CV 5/5] END ..C=100, gamma=0.0001, kernel=poly;, score=0.943 total time=  58.0s\n",
      "[CV 1/5] END C=100, gamma=0.0001, kernel=linear;, score=0.942 total time= 1.0min\n",
      "[CV 2/5] END C=100, gamma=0.0001, kernel=linear;, score=0.938 total time= 1.0min\n",
      "[CV 3/5] END C=100, gamma=0.0001, kernel=linear;, score=0.931 total time= 1.0min\n",
      "[CV 4/5] END C=100, gamma=0.0001, kernel=linear;, score=0.936 total time= 1.0min\n",
      "[CV 5/5] END C=100, gamma=0.0001, kernel=linear;, score=0.936 total time= 1.1min\n",
      "[CV 1/5] END C=100, gamma=0.0001, kernel=sigmoid;, score=0.543 total time= 1.6min\n",
      "[CV 2/5] END C=100, gamma=0.0001, kernel=sigmoid;, score=0.567 total time= 1.7min\n",
      "[CV 3/5] END C=100, gamma=0.0001, kernel=sigmoid;, score=0.590 total time= 1.7min\n",
      "[CV 4/5] END C=100, gamma=0.0001, kernel=sigmoid;, score=0.576 total time= 1.7min\n",
      "[CV 5/5] END C=100, gamma=0.0001, kernel=sigmoid;, score=0.585 total time= 1.7min\n",
      "[CV 1/5] END ....C=100, gamma=0.001, kernel=rbf;, score=0.960 total time= 2.1min\n",
      "[CV 2/5] END ....C=100, gamma=0.001, kernel=rbf;, score=0.959 total time= 2.2min\n",
      "[CV 3/5] END ....C=100, gamma=0.001, kernel=rbf;, score=0.949 total time= 2.2min\n",
      "[CV 4/5] END ....C=100, gamma=0.001, kernel=rbf;, score=0.958 total time= 2.2min\n",
      "[CV 5/5] END ....C=100, gamma=0.001, kernel=rbf;, score=0.953 total time= 2.2min\n",
      "[CV 1/5] END ...C=100, gamma=0.001, kernel=poly;, score=0.938 total time=  56.3s\n",
      "[CV 2/5] END ...C=100, gamma=0.001, kernel=poly;, score=0.942 total time=  56.3s\n",
      "[CV 3/5] END ...C=100, gamma=0.001, kernel=poly;, score=0.932 total time=  56.6s\n",
      "[CV 4/5] END ...C=100, gamma=0.001, kernel=poly;, score=0.951 total time=  56.4s\n",
      "[CV 5/5] END ...C=100, gamma=0.001, kernel=poly;, score=0.943 total time=  56.8s\n",
      "[CV 1/5] END .C=100, gamma=0.001, kernel=linear;, score=0.942 total time= 1.0min\n",
      "[CV 2/5] END .C=100, gamma=0.001, kernel=linear;, score=0.938 total time= 1.1min\n",
      "[CV 3/5] END .C=100, gamma=0.001, kernel=linear;, score=0.931 total time= 1.0min\n",
      "[CV 4/5] END .C=100, gamma=0.001, kernel=linear;, score=0.936 total time= 1.0min\n",
      "[CV 5/5] END .C=100, gamma=0.001, kernel=linear;, score=0.936 total time= 1.0min\n",
      "[CV 1/5] END C=100, gamma=0.001, kernel=sigmoid;, score=0.584 total time= 3.0min\n",
      "[CV 2/5] END C=100, gamma=0.001, kernel=sigmoid;, score=0.582 total time= 3.1min\n",
      "[CV 3/5] END C=100, gamma=0.001, kernel=sigmoid;, score=0.577 total time= 3.0min\n",
      "[CV 4/5] END C=100, gamma=0.001, kernel=sigmoid;, score=0.585 total time= 3.0min\n",
      "[CV 5/5] END C=100, gamma=0.001, kernel=sigmoid;, score=0.579 total time= 3.1min\n",
      "[CV 1/5] END ......C=100, gamma=0.1, kernel=rbf;, score=0.616 total time= 8.4min\n",
      "[CV 2/5] END ......C=100, gamma=0.1, kernel=rbf;, score=0.617 total time= 8.5min\n",
      "[CV 3/5] END ......C=100, gamma=0.1, kernel=rbf;, score=0.621 total time=24.5min\n",
      "[CV 4/5] END ......C=100, gamma=0.1, kernel=rbf;, score=0.618 total time=15.3min\n",
      "[CV 5/5] END ......C=100, gamma=0.1, kernel=rbf;, score=0.620 total time=12.6min\n",
      "[CV 1/5] END .....C=100, gamma=0.1, kernel=poly;, score=0.938 total time= 1.4min\n",
      "[CV 2/5] END .....C=100, gamma=0.1, kernel=poly;, score=0.942 total time= 1.4min\n",
      "[CV 3/5] END .....C=100, gamma=0.1, kernel=poly;, score=0.932 total time= 1.4min\n",
      "[CV 4/5] END .....C=100, gamma=0.1, kernel=poly;, score=0.951 total time= 1.4min\n",
      "[CV 5/5] END .....C=100, gamma=0.1, kernel=poly;, score=0.943 total time= 1.4min\n",
      "[CV 1/5] END ...C=100, gamma=0.1, kernel=linear;, score=0.942 total time= 1.5min\n",
      "[CV 2/5] END ...C=100, gamma=0.1, kernel=linear;, score=0.938 total time= 1.6min\n",
      "[CV 3/5] END ...C=100, gamma=0.1, kernel=linear;, score=0.931 total time= 1.5min\n",
      "[CV 4/5] END ...C=100, gamma=0.1, kernel=linear;, score=0.936 total time= 1.6min\n",
      "[CV 5/5] END ...C=100, gamma=0.1, kernel=linear;, score=0.936 total time= 1.5min\n",
      "[CV 1/5] END ..C=100, gamma=0.1, kernel=sigmoid;, score=0.613 total time= 4.4min\n",
      "[CV 2/5] END ..C=100, gamma=0.1, kernel=sigmoid;, score=0.613 total time= 4.4min\n",
      "[CV 3/5] END ..C=100, gamma=0.1, kernel=sigmoid;, score=0.613 total time= 3.3min\n",
      "[CV 4/5] END ..C=100, gamma=0.1, kernel=sigmoid;, score=0.613 total time= 2.9min\n",
      "[CV 5/5] END ..C=100, gamma=0.1, kernel=sigmoid;, score=0.612 total time= 2.9min\n"
     ]
    }
   ],
   "source": [
    "\n",
    "param_grid={'C': [0.1, 1, 10, 100],\n",
    "            'gamma': [0.0001, 0.001, 0.1, 1],\n",
    "            'kernel': ['rbf', 'poly', 'linear', 'sigmoid']}\n",
    "svc = svm.SVC()\n",
    "CV_model = GridSearchCV(svc,param_grid,verbose=3)\n",
    "\n",
    "CV_model.fit(X_train,y_train)\n"
   ]
  },
  {
   "cell_type": "code",
   "execution_count": 14,
   "metadata": {},
   "outputs": [
    {
     "name": "stdout",
     "output_type": "stream",
     "text": [
      "Best score:    95.593\n",
      "Best params: {'C': 100, 'gamma': 0.001, 'kernel': 'rbf'}\n"
     ]
    }
   ],
   "source": [
    "print(f'Best score: {CV_model.best_score_*100:9.5}')\n",
    "print(f'Best params: {CV_model.best_params_}')"
   ]
  },
  {
   "cell_type": "code",
   "execution_count": 17,
   "metadata": {},
   "outputs": [
    {
     "name": "stdout",
     "output_type": "stream",
     "text": [
      "Best Fit Model accuracy:    96.865\n"
     ]
    }
   ],
   "source": [
    "y_pred = CV_model.predict(X_dev)\n",
    "print(f'Best Fit Model accuracy: {f1_score(y_pred,y_dev,average=\"weighted\")*100:9.5}')"
   ]
  },
  {
   "cell_type": "code",
   "execution_count": 24,
   "metadata": {},
   "outputs": [
    {
     "data": {
      "image/png": "[encoded data removed]",
      "text/plain": [
       "<Figure size 432x288 with 1 Axes>"
      ]
     },
     "metadata": {
      "needs_background": "light"
     },
     "output_type": "display_data"
    }
   ],
   "source": [
    "grid= confusion_matrix(y_dev,y_pred)\n",
    "plt.imshow(grid, cmap = 'summer')\n",
    "\n",
    "for (j,i),label in np.ndenumerate(grid):\n",
    "    plt.text(i,j,label,ha='center',va='center')\n",
    "plt.xlabel('Predicted Label')\n",
    "plt.ylabel('True Label')\n",
    "plt.xticks([0,1,2,3]);\n",
    "plt.yticks([0,1,2,3]);"
   ]
  },
  {
   "cell_type": "code",
   "execution_count": null,
   "metadata": {},
   "outputs": [],
   "source": []
  }
 ],
 "metadata": {
  "kernelspec": {
   "display_name": "Python 3 (ipykernel)",
   "language": "python",
   "name": "python3"
  },
  "language_info": {
   "codemirror_mode": {
    "name": "ipython",
    "version": 3
   },
   "file_extension": ".py",
   "mimetype": "text/x-python",
   "name": "python",
   "nbconvert_exporter": "python",
   "pygments_lexer": "ipython3",
   "version": "3.8.6"
  }
 },
 "nbformat": 4,
 "nbformat_minor": 4
}
