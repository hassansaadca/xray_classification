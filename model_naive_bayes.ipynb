{
 "cells": [
  {
   "cell_type": "markdown",
   "metadata": {},
   "source": [
    "## Step 1: Library import"
   ]
  },
  {
   "cell_type": "code",
   "execution_count": 3,
   "metadata": {},
   "outputs": [],
   "source": [
    "import time\n",
    "import numpy as np\n",
    "import pandas as pd\n",
    "import matplotlib.pyplot as plt\n",
    "from matplotlib.ticker import MultipleLocator\n",
    "from sklearn.pipeline import Pipeline\n",
    "from sklearn.datasets import fetch_openml\n",
    "from sklearn.neighbors import KNeighborsClassifier\n",
    "from sklearn.metrics import confusion_matrix\n",
    "from sklearn.linear_model import LinearRegression\n",
    "from sklearn.naive_bayes import BernoulliNB\n",
    "from sklearn.naive_bayes import MultinomialNB\n",
    "from sklearn.naive_bayes import GaussianNB\n",
    "from sklearn.model_selection import GridSearchCV\n",
    "from sklearn.metrics import classification_report\n",
    "from sklearn.metrics import accuracy_score\n",
    "\n",
    "from sklearn.model_selection import train_test_split\n",
    "\n",
    "from sklearn import svm\n",
    "from sklearn.model_selection import GridSearchCV\n",
    "\n",
    "import xray_data #y data: 1 = NORMAL, 0 = PNEUMONIA\n"
   ]
  },
  {
   "cell_type": "markdown",
   "metadata": {},
   "source": [
    "## Step: Load and preprocess data\n",
    "Note: data is resized and preprocessed as read, as a memory optimization."
   ]
  },
  {
   "cell_type": "code",
   "execution_count": 4,
   "metadata": {},
   "outputs": [],
   "source": [
    "#Constants\n",
    "scale = 200\n",
    "label_filter = ['NORMAL','PNEUMONIA','COVID19','TURBERCULOSIS']"
   ]
  },
  {
   "cell_type": "code",
   "execution_count": 5,
   "metadata": {},
   "outputs": [],
   "source": [
    "# X_dev_orig, y_dev_orig = xray_data.load_dev(scale,label_filter)\n",
    "# print(f'X_dev_orig, y_dev_orig shape: {X_dev_orig.shape, y_dev_orig.shape}')\n",
    "# print(f'y_dev_orig shape for NORMAL cases: {y_dev_orig[y_dev_orig ==1].shape}')\n",
    "# print('----')"
   ]
  },
  {
   "cell_type": "code",
   "execution_count": 6,
   "metadata": {},
   "outputs": [
    {
     "name": "stderr",
     "output_type": "stream",
     "text": [
      "100% (106 of 106) |######################| Elapsed Time: 0:00:02 Time:  0:00:02\n",
      "100% (390 of 390) |######################| Elapsed Time: 0:00:01 Time:  0:00:01\n",
      "100% (234 of 234) |######################| Elapsed Time: 0:00:01 Time:  0:00:01\n",
      "100% (41 of 41) |########################| Elapsed Time: 0:00:00 Time:  0:00:00\n"
     ]
    },
    {
     "name": "stdout",
     "output_type": "stream",
     "text": [
      "COVID19: 31\n",
      "PNEUMONIA: 116\n",
      "NORMAL: 69\n",
      "TURBERCULOSIS: 12\n",
      "Total: 228\n",
      "X_test, y_test shape: ((228, 40000), (228,))\n",
      "y_test shape for NORMAL cases: (116,)\n",
      "----\n"
     ]
    }
   ],
   "source": [
    "# cut of for training samples of each class, only 230 normal rows\n",
    "test_cutoff = 230\n",
    "\n",
    "X_test, y_test = xray_data.load_test(scale,label_filter,test_cutoff, subset = 'PROP')\n",
    "print(f'X_test, y_test shape: {X_test.shape, y_test.shape}')\n",
    "print(f'y_test shape for NORMAL cases: {y_test[y_test ==1].shape}')\n",
    "print('----')"
   ]
  },
  {
   "cell_type": "code",
   "execution_count": 7,
   "metadata": {},
   "outputs": [
    {
     "name": "stderr",
     "output_type": "stream",
     "text": [
      "100% (460 of 460) |######################| Elapsed Time: 0:00:27 Time:  0:00:27\n",
      "100% (3875 of 3875) |####################| Elapsed Time: 0:00:37 Time:  0:00:37\n",
      "100% (1341 of 1341) |####################| Elapsed Time: 0:00:31 Time:  0:00:31\n",
      "100% (650 of 650) |######################| Elapsed Time: 0:00:05 Time:  0:00:05\n"
     ]
    },
    {
     "name": "stdout",
     "output_type": "stream",
     "text": [
      "COVID19: 460\n",
      "PNEUMONIA: 3875\n",
      "NORMAL: 1341\n",
      "TURBERCULOSIS: 650\n",
      "Total: 6326\n"
     ]
    }
   ],
   "source": [
    "# cut of for training samples of each class, only 1300 normal rows\n",
    "train_cutoff = 1300\n",
    "\n",
    "X_train, y_train = xray_data.load_train(scale,label_filter,subset = 'PROP')"
   ]
  },
  {
   "cell_type": "code",
   "execution_count": 17,
   "metadata": {},
   "outputs": [
    {
     "name": "stdout",
     "output_type": "stream",
     "text": [
      "X_train, y_train shape: ((2530, 40000), (2530,))\n",
      "y_train shape for NORMAL cases: (1549,)\n",
      "----\n",
      "X_dev, y_dev shape: ((633, 40000), (633,))\n",
      "y_dev shape for NORMAL cases: (388,)\n"
     ]
    }
   ],
   "source": [
    "# I'm not sure what the final stratify parameter is doing.  We'll want to revist when we do full cross validation\n",
    "\n",
    "X_train, X_dev, y_train, y_dev = train_test_split(X_train, y_train, test_size = .2, stratify = y_train, random_state = 207 )\n",
    "print(f'X_train, y_train shape: {X_train.shape, y_train.shape}')\n",
    "print(f'y_train shape for NORMAL cases: {y_train[y_train ==1].shape}')\n",
    "print('----')\n",
    "print(f'X_dev, y_dev shape: {X_dev.shape, y_dev.shape}')\n",
    "print(f'y_dev shape for NORMAL cases: {y_dev[y_dev ==1].shape}')"
   ]
  },
  {
   "cell_type": "markdown",
   "metadata": {},
   "source": [
    "## Single Model training"
   ]
  },
  {
   "cell_type": "code",
   "execution_count": 18,
   "metadata": {},
   "outputs": [
    {
     "data": {
      "text/plain": [
       "0.6966824644549763"
      ]
     },
     "execution_count": 18,
     "metadata": {},
     "output_type": "execute_result"
    }
   ],
   "source": [
    "NB1 = MultinomialNB()\n",
    "NB1.fit(X_train, y_train)\n",
    "NB1.score(X_dev, y_dev)"
   ]
  },
  {
   "cell_type": "markdown",
   "metadata": {},
   "source": [
    "##  Multiple Model with For Loop"
   ]
  },
  {
   "cell_type": "code",
   "execution_count": 23,
   "metadata": {},
   "outputs": [],
   "source": [
    "alphas = np.arange(70,110,1)\n",
    "scores = []\n",
    "for i in alphas:\n",
    "    NB2 = MultinomialNB(alpha = i)\n",
    "    NB2.fit(X_train, y_train)\n",
    "    scores.append(NB2.score(X_dev, y_dev))\n"
   ]
  },
  {
   "cell_type": "code",
   "execution_count": 24,
   "metadata": {},
   "outputs": [
    {
     "data": {
      "text/plain": [
       "<matplotlib.collections.PathCollection at 0x7f906b3e10a0>"
      ]
     },
     "execution_count": 24,
     "metadata": {},
     "output_type": "execute_result"
    },
    {
     "data": {
      "image/png": "[encoded data removed]",
      "text/plain": [
       "<Figure size 432x288 with 1 Axes>"
      ]
     },
     "metadata": {
      "needs_background": "light"
     },
     "output_type": "display_data"
    }
   ],
   "source": [
    "plt.scatter(alphas, scores)"
   ]
  },
  {
   "cell_type": "markdown",
   "metadata": {},
   "source": [
    "## Gridsearch model"
   ]
  },
  {
   "cell_type": "code",
   "execution_count": 29,
   "metadata": {},
   "outputs": [
    {
     "name": "stdout",
     "output_type": "stream",
     "text": [
      "Fitting 5 folds for each of 40 candidates, totalling 200 fits\n"
     ]
    },
    {
     "name": "stderr",
     "output_type": "stream",
     "text": [
      "[Parallel(n_jobs=1)]: Using backend SequentialBackend with 1 concurrent workers.\n",
      "[Parallel(n_jobs=1)]: Done 200 out of 200 | elapsed:  1.7min finished\n"
     ]
    },
    {
     "data": {
      "text/plain": [
       "GridSearchCV(cv=5, estimator=MultinomialNB(),\n",
       "             param_grid=[{'alpha': array([ 70,  71,  72,  73,  74,  75,  76,  77,  78,  79,  80,  81,  82,\n",
       "        83,  84,  85,  86,  87,  88,  89,  90,  91,  92,  93,  94,  95,\n",
       "        96,  97,  98,  99, 100, 101, 102, 103, 104, 105, 106, 107, 108,\n",
       "       109])}],\n",
       "             verbose=1)"
      ]
     },
     "execution_count": 29,
     "metadata": {},
     "output_type": "execute_result"
    }
   ],
   "source": [
    "NB = MultinomialNB()\n",
    "\n",
    "param_grid = [\n",
    "    {\n",
    "        'alpha': alphas\n",
    "    }\n",
    "]\n",
    "\n",
    "NB_gscv = GridSearchCV(NB, param_grid, cv=5, verbose=1)\n",
    "NB_gscv.fit(X_train,y_train) "
   ]
  },
  {
   "cell_type": "code",
   "execution_count": 30,
   "metadata": {},
   "outputs": [
    {
     "name": "stdout",
     "output_type": "stream",
     "text": [
      "Multinomial Naive Bayes Grid Search with 5-Fold Cross-Validation\n",
      "Best Score: 0.751\n",
      "Optimal Parameters:\n",
      "\talpha: 71\n"
     ]
    }
   ],
   "source": [
    "print('Multinomial Naive Bayes Grid Search with 5-Fold Cross-Validation')\n",
    "print('Best Score: %.3f' % NB_gscv.best_score_)\n",
    "print('Optimal Parameters:') \n",
    "best_params = NB_gscv.best_params_\n",
    "for param in best_params: \n",
    "    print('\\t%s: %s' % (param, best_params[param]))"
   ]
  },
  {
   "cell_type": "code",
   "execution_count": 31,
   "metadata": {},
   "outputs": [],
   "source": [
    "split_scores = []\n",
    "for i in range(5):\n",
    "#     print(f'split{i}_test_score')\n",
    "    split_scores.append(NB_gscv.cv_results_[f'split{i}_test_score'])\n",
    "split_scores = np.array(split_scores)\n",
    "average_score = split_scores.mean(axis = 0)\n",
    "max_score = split_scores.max(axis = 0)"
   ]
  },
  {
   "cell_type": "code",
   "execution_count": 32,
   "metadata": {},
   "outputs": [
    {
     "data": {
      "text/plain": [
       "Text(0, 0.5, 'Score')"
      ]
     },
     "execution_count": 32,
     "metadata": {},
     "output_type": "execute_result"
    },
    {
     "data": {
      "image/png": "[encoded data removed]",
      "text/plain": [
       "<Figure size 432x288 with 1 Axes>"
      ]
     },
     "metadata": {
      "needs_background": "light"
     },
     "output_type": "display_data"
    }
   ],
   "source": [
    "plt.plot(alphas, average_score)\n",
    "plt.title(' Average Scores vs. Laplace Smoothing Param', size = 12)\n",
    "plt.xlabel('Alpha')\n",
    "plt.ylabel('Score')"
   ]
  },
  {
   "cell_type": "code",
   "execution_count": 33,
   "metadata": {},
   "outputs": [
    {
     "data": {
      "text/plain": [
       "Text(0, 0.5, 'Score')"
      ]
     },
     "execution_count": 33,
     "metadata": {},
     "output_type": "execute_result"
    },
    {
     "data": {
      "image/png": "[encoded data removed]",
      "text/plain": [
       "<Figure size 432x288 with 1 Axes>"
      ]
     },
     "metadata": {
      "needs_background": "light"
     },
     "output_type": "display_data"
    }
   ],
   "source": [
    "plt.plot(alphas, max_score)\n",
    "plt.title('Max Scores vs. Laplace Smoothing Param', size = 12)\n",
    "plt.xlabel('Alpha')\n",
    "plt.ylabel('Score')"
   ]
  },
  {
   "cell_type": "code",
   "execution_count": null,
   "metadata": {},
   "outputs": [],
   "source": []
  },
  {
   "cell_type": "code",
   "execution_count": null,
   "metadata": {},
   "outputs": [],
   "source": []
  }
 ],
 "metadata": {
  "kernelspec": {
   "display_name": "Python 3",
   "language": "python",
   "name": "python3"
  },
  "language_info": {
   "codemirror_mode": {
    "name": "ipython",
    "version": 3
   },
   "file_extension": ".py",
   "mimetype": "text/x-python",
   "name": "python",
   "nbconvert_exporter": "python",
   "pygments_lexer": "ipython3",
   "version": "3.8.5"
  }
 },
 "nbformat": 4,
 "nbformat_minor": 4
}
